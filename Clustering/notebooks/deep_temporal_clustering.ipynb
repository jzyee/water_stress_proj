{
  "nbformat": 4,
  "nbformat_minor": 0,
  "metadata": {
    "colab": {
      "name": "deep_temporal_clustering.ipynb",
      "provenance": [],
      "collapsed_sections": [],
      "toc_visible": true,
      "authorship_tag": "ABX9TyN3agdchm6WMvQofBnsHEl4",
      "include_colab_link": true
    },
    "kernelspec": {
      "name": "python3",
      "display_name": "Python 3"
    },
    "accelerator": "GPU"
  },
  "cells": [
    {
      "cell_type": "markdown",
      "metadata": {
        "id": "view-in-github",
        "colab_type": "text"
      },
      "source": [
        "<a href=\"https://colab.research.google.com/github/jzyee/water_stress_proj/blob/master/Clustering/notebooks/deep_temporal_clustering.ipynb\" target=\"_parent\"><img src=\"https://colab.research.google.com/assets/colab-badge.svg\" alt=\"Open In Colab\"/></a>"
      ]
    },
    {
      "cell_type": "markdown",
      "metadata": {
        "id": "41ZIi_l81dlL",
        "colab_type": "text"
      },
      "source": [
        "<b> Drought identification using abnormality detection </b>"
      ]
    },
    {
      "cell_type": "code",
      "metadata": {
        "id": "hYTGZRT-pc7N",
        "colab_type": "code",
        "colab": {
          "base_uri": "https://localhost:8080/",
          "height": 233
        },
        "outputId": "b916b974-103e-473b-ac9c-6bf030bac03c"
      },
      "source": [
        "! pip install --upgrade keras"
      ],
      "execution_count": null,
      "outputs": [
        {
          "output_type": "stream",
          "text": [
            "Collecting keras\n",
            "\u001b[?25l  Downloading https://files.pythonhosted.org/packages/17/c7/9eb83942f2dfc84503125c93a40fce94a100ea911f033dcb63805cb63fb0/Keras-2.4.2-py2.py3-none-any.whl (170kB)\n",
            "\r\u001b[K     |██                              | 10kB 20.7MB/s eta 0:00:01\r\u001b[K     |███▉                            | 20kB 1.8MB/s eta 0:00:01\r\u001b[K     |█████▉                          | 30kB 2.4MB/s eta 0:00:01\r\u001b[K     |███████▊                        | 40kB 2.6MB/s eta 0:00:01\r\u001b[K     |█████████▋                      | 51kB 2.1MB/s eta 0:00:01\r\u001b[K     |███████████▋                    | 61kB 2.3MB/s eta 0:00:01\r\u001b[K     |█████████████▌                  | 71kB 2.6MB/s eta 0:00:01\r\u001b[K     |███████████████▍                | 81kB 2.8MB/s eta 0:00:01\r\u001b[K     |█████████████████▍              | 92kB 3.0MB/s eta 0:00:01\r\u001b[K     |███████████████████▎            | 102kB 2.9MB/s eta 0:00:01\r\u001b[K     |█████████████████████▏          | 112kB 2.9MB/s eta 0:00:01\r\u001b[K     |███████████████████████▏        | 122kB 2.9MB/s eta 0:00:01\r\u001b[K     |█████████████████████████       | 133kB 2.9MB/s eta 0:00:01\r\u001b[K     |███████████████████████████     | 143kB 2.9MB/s eta 0:00:01\r\u001b[K     |█████████████████████████████   | 153kB 2.9MB/s eta 0:00:01\r\u001b[K     |██████████████████████████████▉ | 163kB 2.9MB/s eta 0:00:01\r\u001b[K     |████████████████████████████████| 174kB 2.9MB/s \n",
            "\u001b[?25hRequirement already satisfied, skipping upgrade: numpy>=1.9.1 in /usr/local/lib/python3.6/dist-packages (from keras) (1.18.5)\n",
            "Requirement already satisfied, skipping upgrade: h5py in /usr/local/lib/python3.6/dist-packages (from keras) (2.10.0)\n",
            "Requirement already satisfied, skipping upgrade: pyyaml in /usr/local/lib/python3.6/dist-packages (from keras) (3.13)\n",
            "Requirement already satisfied, skipping upgrade: scipy>=0.14 in /usr/local/lib/python3.6/dist-packages (from keras) (1.4.1)\n",
            "Requirement already satisfied, skipping upgrade: six in /usr/local/lib/python3.6/dist-packages (from h5py->keras) (1.12.0)\n",
            "Installing collected packages: keras\n",
            "  Found existing installation: Keras 2.3.1\n",
            "    Uninstalling Keras-2.3.1:\n",
            "      Successfully uninstalled Keras-2.3.1\n",
            "Successfully installed keras-2.4.2\n"
          ],
          "name": "stdout"
        }
      ]
    },
    {
      "cell_type": "code",
      "metadata": {
        "id": "gFV20-7jDtOJ",
        "colab_type": "code",
        "colab": {}
      },
      "source": [
        "import pandas as pd"
      ],
      "execution_count": null,
      "outputs": []
    },
    {
      "cell_type": "code",
      "metadata": {
        "id": "Jz6OQg-31Osa",
        "colab_type": "code",
        "colab": {
          "base_uri": "https://localhost:8080/",
          "height": 120
        },
        "outputId": "7487aa50-1970-4280-fb6c-c651f7f288f3"
      },
      "source": [
        "from google.colab import drive\n",
        "drive.mount('/content/gdrive', force_remount=True)"
      ],
      "execution_count": null,
      "outputs": [
        {
          "output_type": "stream",
          "text": [
            "Go to this URL in a browser: https://accounts.google.com/o/oauth2/auth?client_id=947318989803-6bn6qk8qdgf4n4g3pfee6491hc0brc4i.apps.googleusercontent.com&redirect_uri=urn%3aietf%3awg%3aoauth%3a2.0%3aoob&response_type=code&scope=email%20https%3a%2f%2fwww.googleapis.com%2fauth%2fdocs.test%20https%3a%2f%2fwww.googleapis.com%2fauth%2fdrive%20https%3a%2f%2fwww.googleapis.com%2fauth%2fdrive.photos.readonly%20https%3a%2f%2fwww.googleapis.com%2fauth%2fpeopleapi.readonly\n",
            "\n",
            "Enter your authorization code:\n",
            "··········\n",
            "Mounted at /content/gdrive\n"
          ],
          "name": "stdout"
        }
      ]
    },
    {
      "cell_type": "code",
      "metadata": {
        "id": "wx9FyMLFDUkr",
        "colab_type": "code",
        "colab": {
          "base_uri": "https://localhost:8080/",
          "height": 33
        },
        "outputId": "d2d5fc5e-1447-4e72-ebd7-6d7ea9b06f32"
      },
      "source": [
        "% cd /content/gdrive/'My Drive'/water_stress_detection"
      ],
      "execution_count": null,
      "outputs": [
        {
          "output_type": "stream",
          "text": [
            "/content/gdrive/My Drive/water_stress_detection\n"
          ],
          "name": "stdout"
        }
      ]
    },
    {
      "cell_type": "code",
      "metadata": {
        "id": "xdnI2pu6DZ2F",
        "colab_type": "code",
        "colab": {
          "base_uri": "https://localhost:8080/",
          "height": 263
        },
        "outputId": "f2abc64d-0d6a-4224-955f-a7a57c7e77c8"
      },
      "source": [
        "#variable declaration\n",
        "\n",
        "filename = 'MODIS_TS_EVI_EBTRN_Sites.csv'\n",
        "\n",
        "df = pd.read_csv(filename)\n",
        "df.head()"
      ],
      "execution_count": null,
      "outputs": [
        {
          "output_type": "execute_result",
          "data": {
            "text/html": [
              "<div>\n",
              "<style scoped>\n",
              "    .dataframe tbody tr th:only-of-type {\n",
              "        vertical-align: middle;\n",
              "    }\n",
              "\n",
              "    .dataframe tbody tr th {\n",
              "        vertical-align: top;\n",
              "    }\n",
              "\n",
              "    .dataframe thead th {\n",
              "        text-align: right;\n",
              "    }\n",
              "</style>\n",
              "<table border=\"1\" class=\"dataframe\">\n",
              "  <thead>\n",
              "    <tr style=\"text-align: right;\">\n",
              "      <th></th>\n",
              "      <th>alt</th>\n",
              "      <th>lat</th>\n",
              "      <th>lon</th>\n",
              "      <th>siteID</th>\n",
              "      <th>2000-02-18T00:00:00</th>\n",
              "      <th>2000-03-05T00:00:00</th>\n",
              "      <th>2000-03-21T00:00:00</th>\n",
              "      <th>2000-04-06T00:00:00</th>\n",
              "      <th>2000-04-22T00:00:00</th>\n",
              "      <th>2000-05-08T00:00:00</th>\n",
              "      <th>2000-05-24T00:00:00</th>\n",
              "      <th>2000-06-09T00:00:00</th>\n",
              "      <th>2000-06-25T00:00:00</th>\n",
              "      <th>2000-07-11T00:00:00</th>\n",
              "      <th>2000-07-27T00:00:00</th>\n",
              "      <th>2000-08-12T00:00:00</th>\n",
              "      <th>2000-08-28T00:00:00</th>\n",
              "      <th>2000-09-13T00:00:00</th>\n",
              "      <th>2000-09-29T00:00:00</th>\n",
              "      <th>2000-10-15T00:00:00</th>\n",
              "      <th>2000-10-31T00:00:00</th>\n",
              "      <th>2000-11-16T00:00:00</th>\n",
              "      <th>2000-12-02T00:00:00</th>\n",
              "      <th>2000-12-18T00:00:00</th>\n",
              "      <th>2001-01-01T00:00:00</th>\n",
              "      <th>2001-01-17T00:00:00</th>\n",
              "      <th>2001-02-02T00:00:00</th>\n",
              "      <th>2001-02-18T00:00:00</th>\n",
              "      <th>2001-03-06T00:00:00</th>\n",
              "      <th>2001-03-22T00:00:00</th>\n",
              "      <th>2001-04-07T00:00:00</th>\n",
              "      <th>2001-04-23T00:00:00</th>\n",
              "      <th>2001-05-09T00:00:00</th>\n",
              "      <th>2001-05-25T00:00:00</th>\n",
              "      <th>2001-06-10T00:00:00</th>\n",
              "      <th>2001-06-26T00:00:00</th>\n",
              "      <th>2001-07-12T00:00:00</th>\n",
              "      <th>2001-07-28T00:00:00</th>\n",
              "      <th>2001-08-13T00:00:00</th>\n",
              "      <th>2001-08-29T00:00:00</th>\n",
              "      <th>...</th>\n",
              "      <th>2017-09-30T00:00:00</th>\n",
              "      <th>2017-10-16T00:00:00</th>\n",
              "      <th>2017-11-01T00:00:00</th>\n",
              "      <th>2017-11-17T00:00:00</th>\n",
              "      <th>2017-12-03T00:00:00</th>\n",
              "      <th>2017-12-19T00:00:00</th>\n",
              "      <th>2018-01-01T00:00:00</th>\n",
              "      <th>2018-01-17T00:00:00</th>\n",
              "      <th>2018-02-02T00:00:00</th>\n",
              "      <th>2018-02-18T00:00:00</th>\n",
              "      <th>2018-03-06T00:00:00</th>\n",
              "      <th>2018-03-22T00:00:00</th>\n",
              "      <th>2018-04-07T00:00:00</th>\n",
              "      <th>2018-04-23T00:00:00</th>\n",
              "      <th>2018-05-09T00:00:00</th>\n",
              "      <th>2018-05-25T00:00:00</th>\n",
              "      <th>2018-06-10T00:00:00</th>\n",
              "      <th>2018-06-26T00:00:00</th>\n",
              "      <th>2018-07-12T00:00:00</th>\n",
              "      <th>2018-07-28T00:00:00</th>\n",
              "      <th>2018-08-13T00:00:00</th>\n",
              "      <th>2018-08-29T00:00:00</th>\n",
              "      <th>2018-09-14T00:00:00</th>\n",
              "      <th>2018-09-30T00:00:00</th>\n",
              "      <th>2018-10-16T00:00:00</th>\n",
              "      <th>2018-11-01T00:00:00</th>\n",
              "      <th>2018-11-17T00:00:00</th>\n",
              "      <th>2018-12-03T00:00:00</th>\n",
              "      <th>2018-12-19T00:00:00</th>\n",
              "      <th>2019-01-01T00:00:00</th>\n",
              "      <th>2019-01-17T00:00:00</th>\n",
              "      <th>2019-02-02T00:00:00</th>\n",
              "      <th>2019-02-18T00:00:00</th>\n",
              "      <th>2019-03-06T00:00:00</th>\n",
              "      <th>2019-03-22T00:00:00</th>\n",
              "      <th>2019-04-07T00:00:00</th>\n",
              "      <th>2019-04-23T00:00:00</th>\n",
              "      <th>2019-05-09T00:00:00</th>\n",
              "      <th>2019-05-25T00:00:00</th>\n",
              "      <th>2019-06-10T00:00:00</th>\n",
              "    </tr>\n",
              "  </thead>\n",
              "  <tbody>\n",
              "    <tr>\n",
              "      <th>0</th>\n",
              "      <td>570</td>\n",
              "      <td>47.191442</td>\n",
              "      <td>6.277375</td>\n",
              "      <td>FS25</td>\n",
              "      <td>2930.0</td>\n",
              "      <td>2741.0</td>\n",
              "      <td>2759.0</td>\n",
              "      <td>2965.0</td>\n",
              "      <td>3103.0</td>\n",
              "      <td>5839.0</td>\n",
              "      <td>8273.0</td>\n",
              "      <td>7278.0</td>\n",
              "      <td>6472.0</td>\n",
              "      <td>7109.0</td>\n",
              "      <td>5608.0</td>\n",
              "      <td>5141.0</td>\n",
              "      <td>5480.0</td>\n",
              "      <td>4829.0</td>\n",
              "      <td>4302.0</td>\n",
              "      <td>3244.0</td>\n",
              "      <td>2849.0</td>\n",
              "      <td>2668.0</td>\n",
              "      <td>2916.0</td>\n",
              "      <td>2505.0</td>\n",
              "      <td>2428.0</td>\n",
              "      <td>2400.0</td>\n",
              "      <td>2597.0</td>\n",
              "      <td>2624.0</td>\n",
              "      <td>1977.0</td>\n",
              "      <td>2663.0</td>\n",
              "      <td>3755.0</td>\n",
              "      <td>3486.0</td>\n",
              "      <td>4420.0</td>\n",
              "      <td>7553.0</td>\n",
              "      <td>6986.0</td>\n",
              "      <td>7317.0</td>\n",
              "      <td>6979.0</td>\n",
              "      <td>6763.0</td>\n",
              "      <td>5853.0</td>\n",
              "      <td>5968.0</td>\n",
              "      <td>...</td>\n",
              "      <td>4447.0</td>\n",
              "      <td>2906.0</td>\n",
              "      <td>2729.0</td>\n",
              "      <td>2549.0</td>\n",
              "      <td>2362.0</td>\n",
              "      <td>3701.0</td>\n",
              "      <td>2479.0</td>\n",
              "      <td>3277.0</td>\n",
              "      <td>2481.0</td>\n",
              "      <td>2496.0</td>\n",
              "      <td>2007.0</td>\n",
              "      <td>2793.0</td>\n",
              "      <td>3528.0</td>\n",
              "      <td>5065.0</td>\n",
              "      <td>5597.0</td>\n",
              "      <td>6332.0</td>\n",
              "      <td>6434.0</td>\n",
              "      <td>5359.0</td>\n",
              "      <td>5528.0</td>\n",
              "      <td>5590.0</td>\n",
              "      <td>5162.0</td>\n",
              "      <td>4246.0</td>\n",
              "      <td>4468.0</td>\n",
              "      <td>4286.0</td>\n",
              "      <td>3574.0</td>\n",
              "      <td>2759.0</td>\n",
              "      <td>2534.0</td>\n",
              "      <td>2552.0</td>\n",
              "      <td>2384.0</td>\n",
              "      <td>2384.0</td>\n",
              "      <td>1916.0</td>\n",
              "      <td>2360.0</td>\n",
              "      <td>2552.0</td>\n",
              "      <td>3249.0</td>\n",
              "      <td>2703.0</td>\n",
              "      <td>3325.0</td>\n",
              "      <td>3906.0</td>\n",
              "      <td>5072.0</td>\n",
              "      <td>6466.0</td>\n",
              "      <td>5616.0</td>\n",
              "    </tr>\n",
              "    <tr>\n",
              "      <th>1</th>\n",
              "      <td>325</td>\n",
              "      <td>48.509078</td>\n",
              "      <td>6.704715</td>\n",
              "      <td>FS54a</td>\n",
              "      <td>2824.0</td>\n",
              "      <td>2610.0</td>\n",
              "      <td>2864.0</td>\n",
              "      <td>2901.0</td>\n",
              "      <td>4854.0</td>\n",
              "      <td>4945.0</td>\n",
              "      <td>6032.0</td>\n",
              "      <td>5644.0</td>\n",
              "      <td>6037.0</td>\n",
              "      <td>6471.0</td>\n",
              "      <td>5714.0</td>\n",
              "      <td>5354.0</td>\n",
              "      <td>5014.0</td>\n",
              "      <td>5239.0</td>\n",
              "      <td>5525.0</td>\n",
              "      <td>4208.0</td>\n",
              "      <td>3529.0</td>\n",
              "      <td>3874.0</td>\n",
              "      <td>3216.0</td>\n",
              "      <td>3031.0</td>\n",
              "      <td>2745.0</td>\n",
              "      <td>2968.0</td>\n",
              "      <td>3014.0</td>\n",
              "      <td>3578.0</td>\n",
              "      <td>2581.0</td>\n",
              "      <td>3048.0</td>\n",
              "      <td>2454.0</td>\n",
              "      <td>4361.0</td>\n",
              "      <td>7437.0</td>\n",
              "      <td>6248.0</td>\n",
              "      <td>6190.0</td>\n",
              "      <td>6901.0</td>\n",
              "      <td>6974.0</td>\n",
              "      <td>6395.0</td>\n",
              "      <td>6089.0</td>\n",
              "      <td>882.0</td>\n",
              "      <td>...</td>\n",
              "      <td>5153.0</td>\n",
              "      <td>4080.0</td>\n",
              "      <td>4406.0</td>\n",
              "      <td>3477.0</td>\n",
              "      <td>4297.0</td>\n",
              "      <td>1802.0</td>\n",
              "      <td>2938.0</td>\n",
              "      <td>1378.0</td>\n",
              "      <td>3634.0</td>\n",
              "      <td>2730.0</td>\n",
              "      <td>3179.0</td>\n",
              "      <td>2805.0</td>\n",
              "      <td>5426.0</td>\n",
              "      <td>7028.0</td>\n",
              "      <td>7397.0</td>\n",
              "      <td>6904.0</td>\n",
              "      <td>6496.0</td>\n",
              "      <td>5874.0</td>\n",
              "      <td>6664.0</td>\n",
              "      <td>6411.0</td>\n",
              "      <td>5946.0</td>\n",
              "      <td>5241.0</td>\n",
              "      <td>5990.0</td>\n",
              "      <td>5808.0</td>\n",
              "      <td>4918.0</td>\n",
              "      <td>2975.0</td>\n",
              "      <td>2942.0</td>\n",
              "      <td>2702.0</td>\n",
              "      <td>1412.0</td>\n",
              "      <td>2183.0</td>\n",
              "      <td>2775.0</td>\n",
              "      <td>2807.0</td>\n",
              "      <td>2604.0</td>\n",
              "      <td>2898.0</td>\n",
              "      <td>2757.0</td>\n",
              "      <td>3235.0</td>\n",
              "      <td>5100.0</td>\n",
              "      <td>8108.0</td>\n",
              "      <td>7072.0</td>\n",
              "      <td>5839.0</td>\n",
              "    </tr>\n",
              "    <tr>\n",
              "      <th>2</th>\n",
              "      <td>145</td>\n",
              "      <td>49.205399</td>\n",
              "      <td>3.126344</td>\n",
              "      <td>FS02</td>\n",
              "      <td>2808.0</td>\n",
              "      <td>2217.0</td>\n",
              "      <td>2236.0</td>\n",
              "      <td>2437.0</td>\n",
              "      <td>6410.0</td>\n",
              "      <td>6248.0</td>\n",
              "      <td>6332.0</td>\n",
              "      <td>6522.0</td>\n",
              "      <td>6885.0</td>\n",
              "      <td>6287.0</td>\n",
              "      <td>6112.0</td>\n",
              "      <td>5450.0</td>\n",
              "      <td>5564.0</td>\n",
              "      <td>4777.0</td>\n",
              "      <td>5583.0</td>\n",
              "      <td>4151.0</td>\n",
              "      <td>2836.0</td>\n",
              "      <td>2738.0</td>\n",
              "      <td>2650.0</td>\n",
              "      <td>2459.0</td>\n",
              "      <td>1535.0</td>\n",
              "      <td>2636.0</td>\n",
              "      <td>2137.0</td>\n",
              "      <td>2586.0</td>\n",
              "      <td>1986.0</td>\n",
              "      <td>2219.0</td>\n",
              "      <td>2427.0</td>\n",
              "      <td>5080.0</td>\n",
              "      <td>6234.0</td>\n",
              "      <td>6934.0</td>\n",
              "      <td>7426.0</td>\n",
              "      <td>7114.0</td>\n",
              "      <td>5895.0</td>\n",
              "      <td>5966.0</td>\n",
              "      <td>6435.0</td>\n",
              "      <td>6920.0</td>\n",
              "      <td>...</td>\n",
              "      <td>4371.0</td>\n",
              "      <td>4510.0</td>\n",
              "      <td>3478.0</td>\n",
              "      <td>2693.0</td>\n",
              "      <td>2589.0</td>\n",
              "      <td>3040.0</td>\n",
              "      <td>2371.0</td>\n",
              "      <td>2472.0</td>\n",
              "      <td>1370.0</td>\n",
              "      <td>2759.0</td>\n",
              "      <td>2694.0</td>\n",
              "      <td>2769.0</td>\n",
              "      <td>4852.0</td>\n",
              "      <td>6524.0</td>\n",
              "      <td>6399.0</td>\n",
              "      <td>6447.0</td>\n",
              "      <td>6941.0</td>\n",
              "      <td>6019.0</td>\n",
              "      <td>5711.0</td>\n",
              "      <td>6083.0</td>\n",
              "      <td>5590.0</td>\n",
              "      <td>5059.0</td>\n",
              "      <td>4918.0</td>\n",
              "      <td>4748.0</td>\n",
              "      <td>4717.0</td>\n",
              "      <td>3868.0</td>\n",
              "      <td>2989.0</td>\n",
              "      <td>2851.0</td>\n",
              "      <td>2237.0</td>\n",
              "      <td>1804.0</td>\n",
              "      <td>2229.0</td>\n",
              "      <td>2286.0</td>\n",
              "      <td>2315.0</td>\n",
              "      <td>3084.0</td>\n",
              "      <td>2547.0</td>\n",
              "      <td>4822.0</td>\n",
              "      <td>5898.0</td>\n",
              "      <td>6292.0</td>\n",
              "      <td>6741.0</td>\n",
              "      <td>6262.0</td>\n",
              "    </tr>\n",
              "    <tr>\n",
              "      <th>3</th>\n",
              "      <td>138</td>\n",
              "      <td>49.323585</td>\n",
              "      <td>2.875263</td>\n",
              "      <td>FS60</td>\n",
              "      <td>2293.0</td>\n",
              "      <td>2116.0</td>\n",
              "      <td>2574.0</td>\n",
              "      <td>2546.0</td>\n",
              "      <td>6080.0</td>\n",
              "      <td>6194.0</td>\n",
              "      <td>6218.0</td>\n",
              "      <td>6225.0</td>\n",
              "      <td>6461.0</td>\n",
              "      <td>5913.0</td>\n",
              "      <td>5401.0</td>\n",
              "      <td>5374.0</td>\n",
              "      <td>5598.0</td>\n",
              "      <td>5245.0</td>\n",
              "      <td>5601.0</td>\n",
              "      <td>4309.0</td>\n",
              "      <td>3094.0</td>\n",
              "      <td>2431.0</td>\n",
              "      <td>2044.0</td>\n",
              "      <td>2465.0</td>\n",
              "      <td>2898.0</td>\n",
              "      <td>2373.0</td>\n",
              "      <td>2156.0</td>\n",
              "      <td>2561.0</td>\n",
              "      <td>1954.0</td>\n",
              "      <td>3151.0</td>\n",
              "      <td>2490.0</td>\n",
              "      <td>2844.0</td>\n",
              "      <td>6065.0</td>\n",
              "      <td>6993.0</td>\n",
              "      <td>7318.0</td>\n",
              "      <td>7031.0</td>\n",
              "      <td>5840.0</td>\n",
              "      <td>6025.0</td>\n",
              "      <td>6503.0</td>\n",
              "      <td>6868.0</td>\n",
              "      <td>...</td>\n",
              "      <td>4237.0</td>\n",
              "      <td>4227.0</td>\n",
              "      <td>3994.0</td>\n",
              "      <td>2713.0</td>\n",
              "      <td>2811.0</td>\n",
              "      <td>3810.0</td>\n",
              "      <td>2820.0</td>\n",
              "      <td>2556.0</td>\n",
              "      <td>1731.0</td>\n",
              "      <td>2765.0</td>\n",
              "      <td>2637.0</td>\n",
              "      <td>2782.0</td>\n",
              "      <td>4041.0</td>\n",
              "      <td>6251.0</td>\n",
              "      <td>6983.0</td>\n",
              "      <td>7085.0</td>\n",
              "      <td>6743.0</td>\n",
              "      <td>6344.0</td>\n",
              "      <td>5793.0</td>\n",
              "      <td>6124.0</td>\n",
              "      <td>5642.0</td>\n",
              "      <td>5266.0</td>\n",
              "      <td>5158.0</td>\n",
              "      <td>4823.0</td>\n",
              "      <td>5081.0</td>\n",
              "      <td>3571.0</td>\n",
              "      <td>2506.0</td>\n",
              "      <td>2921.0</td>\n",
              "      <td>2542.0</td>\n",
              "      <td>1702.0</td>\n",
              "      <td>2888.0</td>\n",
              "      <td>2338.0</td>\n",
              "      <td>2391.0</td>\n",
              "      <td>3307.0</td>\n",
              "      <td>2616.0</td>\n",
              "      <td>3540.0</td>\n",
              "      <td>6419.0</td>\n",
              "      <td>6285.0</td>\n",
              "      <td>6275.0</td>\n",
              "      <td>7015.0</td>\n",
              "    </tr>\n",
              "    <tr>\n",
              "      <th>4</th>\n",
              "      <td>87</td>\n",
              "      <td>55.605000</td>\n",
              "      <td>13.799000</td>\n",
              "      <td>FL</td>\n",
              "      <td>-235.0</td>\n",
              "      <td>2664.0</td>\n",
              "      <td>2397.0</td>\n",
              "      <td>2462.0</td>\n",
              "      <td>4790.0</td>\n",
              "      <td>4802.0</td>\n",
              "      <td>6462.0</td>\n",
              "      <td>5340.0</td>\n",
              "      <td>5997.0</td>\n",
              "      <td>5443.0</td>\n",
              "      <td>5636.0</td>\n",
              "      <td>2054.0</td>\n",
              "      <td>4396.0</td>\n",
              "      <td>4251.0</td>\n",
              "      <td>4614.0</td>\n",
              "      <td>1652.0</td>\n",
              "      <td>3576.0</td>\n",
              "      <td>1978.0</td>\n",
              "      <td>777.0</td>\n",
              "      <td>1986.0</td>\n",
              "      <td>2253.0</td>\n",
              "      <td>496.0</td>\n",
              "      <td>2236.0</td>\n",
              "      <td>2375.0</td>\n",
              "      <td>2351.0</td>\n",
              "      <td>2189.0</td>\n",
              "      <td>2320.0</td>\n",
              "      <td>3213.0</td>\n",
              "      <td>4503.0</td>\n",
              "      <td>4816.0</td>\n",
              "      <td>6021.0</td>\n",
              "      <td>5833.0</td>\n",
              "      <td>5773.0</td>\n",
              "      <td>3963.0</td>\n",
              "      <td>5646.0</td>\n",
              "      <td>6057.0</td>\n",
              "      <td>...</td>\n",
              "      <td>4819.0</td>\n",
              "      <td>4528.0</td>\n",
              "      <td>3652.0</td>\n",
              "      <td>3519.0</td>\n",
              "      <td>4347.0</td>\n",
              "      <td>881.0</td>\n",
              "      <td>2932.0</td>\n",
              "      <td>3594.0</td>\n",
              "      <td>2653.0</td>\n",
              "      <td>3339.0</td>\n",
              "      <td>1116.0</td>\n",
              "      <td>917.0</td>\n",
              "      <td>4180.0</td>\n",
              "      <td>5210.0</td>\n",
              "      <td>5272.0</td>\n",
              "      <td>6453.0</td>\n",
              "      <td>5595.0</td>\n",
              "      <td>6159.0</td>\n",
              "      <td>4731.0</td>\n",
              "      <td>5453.0</td>\n",
              "      <td>4715.0</td>\n",
              "      <td>6043.0</td>\n",
              "      <td>5821.0</td>\n",
              "      <td>4172.0</td>\n",
              "      <td>4344.0</td>\n",
              "      <td>3202.0</td>\n",
              "      <td>4684.0</td>\n",
              "      <td>2849.0</td>\n",
              "      <td>3263.0</td>\n",
              "      <td>3263.0</td>\n",
              "      <td>1935.0</td>\n",
              "      <td>3451.0</td>\n",
              "      <td>2873.0</td>\n",
              "      <td>2900.0</td>\n",
              "      <td>3094.0</td>\n",
              "      <td>3203.0</td>\n",
              "      <td>4496.0</td>\n",
              "      <td>5084.0</td>\n",
              "      <td>6182.0</td>\n",
              "      <td>5545.0</td>\n",
              "    </tr>\n",
              "  </tbody>\n",
              "</table>\n",
              "<p>5 rows × 449 columns</p>\n",
              "</div>"
            ],
            "text/plain": [
              "   alt        lat  ...  2019-05-25T00:00:00 2019-06-10T00:00:00\n",
              "0  570  47.191442  ...               6466.0              5616.0\n",
              "1  325  48.509078  ...               7072.0              5839.0\n",
              "2  145  49.205399  ...               6741.0              6262.0\n",
              "3  138  49.323585  ...               6275.0              7015.0\n",
              "4   87  55.605000  ...               6182.0              5545.0\n",
              "\n",
              "[5 rows x 449 columns]"
            ]
          },
          "metadata": {
            "tags": []
          },
          "execution_count": 5
        }
      ]
    },
    {
      "cell_type": "code",
      "metadata": {
        "id": "VmtevrD6Dv8w",
        "colab_type": "code",
        "colab": {}
      },
      "source": [
        "def reformat_modis_df(modis_df):\n",
        "  modis_loc_df = modis_df.iloc[:,3:]\n",
        "  modis_loc_df.index = modis_loc_df.iloc[:,0]\n",
        "  modis_loc_df = modis_loc_df.iloc[:,1:]\n",
        "  modis_loc_T = modis_loc_df.T\n",
        "  modis_loc_T.index = pd.to_datetime(modis_loc_T.index)\n",
        "  # modis_loc_T.plot(figsize=(25,10))\n",
        "\n",
        "  # resample for monthly means\n",
        "  modis_loc_T = modis_loc_T.resample('M').mean()\n",
        "\n",
        "  ##GLDAS data retried from GEE sets the monthly avg on the first day of the month\n",
        "  modis_loc_T.index = modis_loc_T.index.map(lambda t: t.replace(day=1))\n",
        "\n",
        "\n",
        "  return(modis_loc_T)\n",
        "\n",
        "mean_modis = reformat_modis_df(df)"
      ],
      "execution_count": null,
      "outputs": []
    },
    {
      "cell_type": "code",
      "metadata": {
        "id": "IGQHB8J8D0K9",
        "colab_type": "code",
        "colab": {
          "base_uri": "https://localhost:8080/",
          "height": 593
        },
        "outputId": "c34985d7-d536-4926-dcf4-3726538fa616"
      },
      "source": [
        "mean_modis"
      ],
      "execution_count": null,
      "outputs": [
        {
          "output_type": "execute_result",
          "data": {
            "text/html": [
              "<div>\n",
              "<style scoped>\n",
              "    .dataframe tbody tr th:only-of-type {\n",
              "        vertical-align: middle;\n",
              "    }\n",
              "\n",
              "    .dataframe tbody tr th {\n",
              "        vertical-align: top;\n",
              "    }\n",
              "\n",
              "    .dataframe thead th {\n",
              "        text-align: right;\n",
              "    }\n",
              "</style>\n",
              "<table border=\"1\" class=\"dataframe\">\n",
              "  <thead>\n",
              "    <tr style=\"text-align: right;\">\n",
              "      <th>siteID</th>\n",
              "      <th>FS25</th>\n",
              "      <th>FS54a</th>\n",
              "      <th>FS02</th>\n",
              "      <th>FS60</th>\n",
              "      <th>FL</th>\n",
              "      <th>FR</th>\n",
              "      <th>Bnik</th>\n",
              "      <th>Bgar</th>\n",
              "      <th>Bcas</th>\n",
              "      <th>Bgov</th>\n",
              "      <th>Bdra</th>\n",
              "      <th>Bmon</th>\n",
              "      <th>Btjn</th>\n",
              "      <th>GERM174</th>\n",
              "      <th>GERM215</th>\n",
              "      <th>GERM151</th>\n",
              "      <th>ITAL039</th>\n",
              "      <th>ITAL036</th>\n",
              "      <th>SWIT259</th>\n",
              "      <th>SWIT345</th>\n",
              "      <th>SWIT295</th>\n",
              "      <th>s097</th>\n",
              "      <th>s033</th>\n",
              "      <th>s103</th>\n",
              "      <th>s106</th>\n",
              "      <th>E17</th>\n",
              "      <th>E45</th>\n",
              "      <th>E10</th>\n",
              "      <th>E09</th>\n",
              "      <th>E46</th>\n",
              "      <th>E06</th>\n",
              "      <th>E07</th>\n",
              "      <th>E39</th>\n",
              "      <th>E38</th>\n",
              "      <th>E31</th>\n",
              "      <th>E30</th>\n",
              "      <th>E50</th>\n",
              "      <th>E20</th>\n",
              "      <th>E18</th>\n",
              "      <th>E13</th>\n",
              "      <th>...</th>\n",
              "      <th>LLSR</th>\n",
              "      <th>OGMS</th>\n",
              "      <th>SSAK</th>\n",
              "      <th>WMFH</th>\n",
              "      <th>LR38</th>\n",
              "      <th>FS55</th>\n",
              "      <th>OAH</th>\n",
              "      <th>HSBB</th>\n",
              "      <th>HSKM</th>\n",
              "      <th>ITAL037</th>\n",
              "      <th>ROM_PAU</th>\n",
              "      <th>Bbuk</th>\n",
              "      <th>KA</th>\n",
              "      <th>E19</th>\n",
              "      <th>SAMA</th>\n",
              "      <th>OGLC</th>\n",
              "      <th>NGEW</th>\n",
              "      <th>KHKF</th>\n",
              "      <th>KHLF</th>\n",
              "      <th>KHLW</th>\n",
              "      <th>GERM184</th>\n",
              "      <th>GERM182</th>\n",
              "      <th>SeL</th>\n",
              "      <th>Ses</th>\n",
              "      <th>VERM11</th>\n",
              "      <th>VERM10</th>\n",
              "      <th>UnS</th>\n",
              "      <th>UnL</th>\n",
              "      <th>GERM148</th>\n",
              "      <th>GERM152</th>\n",
              "      <th>GERM167</th>\n",
              "      <th>GERM164</th>\n",
              "      <th>GERM212</th>\n",
              "      <th>GERM211</th>\n",
              "      <th>WHSB</th>\n",
              "      <th>WHSG</th>\n",
              "      <th>UK32</th>\n",
              "      <th>BWS</th>\n",
              "      <th>VERM19</th>\n",
              "      <th>VERM17</th>\n",
              "    </tr>\n",
              "  </thead>\n",
              "  <tbody>\n",
              "    <tr>\n",
              "      <th>2000-02-01</th>\n",
              "      <td>2930.0</td>\n",
              "      <td>2824.0</td>\n",
              "      <td>2808.0</td>\n",
              "      <td>2293.0</td>\n",
              "      <td>-235.0</td>\n",
              "      <td>670.0</td>\n",
              "      <td>1729.0</td>\n",
              "      <td>3169.0</td>\n",
              "      <td>560.0</td>\n",
              "      <td>1466.0</td>\n",
              "      <td>1059.0</td>\n",
              "      <td>1888.0</td>\n",
              "      <td>1698.0</td>\n",
              "      <td>2749.0</td>\n",
              "      <td>-203.0</td>\n",
              "      <td>760.0</td>\n",
              "      <td>3512.0</td>\n",
              "      <td>3124.0</td>\n",
              "      <td>561.0</td>\n",
              "      <td>1748.0</td>\n",
              "      <td>2344.0</td>\n",
              "      <td>1987.0</td>\n",
              "      <td>2073.0</td>\n",
              "      <td>2232.0</td>\n",
              "      <td>2410.0</td>\n",
              "      <td>1267.0</td>\n",
              "      <td>3541.0</td>\n",
              "      <td>2558.0</td>\n",
              "      <td>2677.0</td>\n",
              "      <td>664.0</td>\n",
              "      <td>2393.0</td>\n",
              "      <td>2326.0</td>\n",
              "      <td>2757.0</td>\n",
              "      <td>2671.0</td>\n",
              "      <td>1997.0</td>\n",
              "      <td>2151.0</td>\n",
              "      <td>2583.0</td>\n",
              "      <td>2669.0</td>\n",
              "      <td>2851.0</td>\n",
              "      <td>2286.0</td>\n",
              "      <td>...</td>\n",
              "      <td>2264.0</td>\n",
              "      <td>1337.0</td>\n",
              "      <td>2562.0</td>\n",
              "      <td>2502.0</td>\n",
              "      <td>1635.0</td>\n",
              "      <td>2453.0</td>\n",
              "      <td>1825.0</td>\n",
              "      <td>1343.0</td>\n",
              "      <td>1731.0</td>\n",
              "      <td>2788.0</td>\n",
              "      <td>2494.0</td>\n",
              "      <td>2034.0</td>\n",
              "      <td>2166.0</td>\n",
              "      <td>3342.0</td>\n",
              "      <td>132.0</td>\n",
              "      <td>1844.0</td>\n",
              "      <td>1496.0</td>\n",
              "      <td>2375.0</td>\n",
              "      <td>2375.0</td>\n",
              "      <td>2375.0</td>\n",
              "      <td>2674.0</td>\n",
              "      <td>2674.0</td>\n",
              "      <td>-174.0</td>\n",
              "      <td>-174.0</td>\n",
              "      <td>1394.0</td>\n",
              "      <td>1394.0</td>\n",
              "      <td>230.0</td>\n",
              "      <td>230.0</td>\n",
              "      <td>1693.0</td>\n",
              "      <td>1693.0</td>\n",
              "      <td>786.0</td>\n",
              "      <td>786.0</td>\n",
              "      <td>2312.0</td>\n",
              "      <td>2312.0</td>\n",
              "      <td>2323.0</td>\n",
              "      <td>2323.0</td>\n",
              "      <td>2790.0</td>\n",
              "      <td>2790.0</td>\n",
              "      <td>94.0</td>\n",
              "      <td>94.0</td>\n",
              "    </tr>\n",
              "    <tr>\n",
              "      <th>2000-03-01</th>\n",
              "      <td>2750.0</td>\n",
              "      <td>2737.0</td>\n",
              "      <td>2226.5</td>\n",
              "      <td>2345.0</td>\n",
              "      <td>2530.5</td>\n",
              "      <td>2727.5</td>\n",
              "      <td>1935.0</td>\n",
              "      <td>2676.5</td>\n",
              "      <td>2501.0</td>\n",
              "      <td>1449.5</td>\n",
              "      <td>2294.0</td>\n",
              "      <td>1615.0</td>\n",
              "      <td>1699.5</td>\n",
              "      <td>2273.0</td>\n",
              "      <td>2369.5</td>\n",
              "      <td>1072.0</td>\n",
              "      <td>3892.5</td>\n",
              "      <td>3260.5</td>\n",
              "      <td>1486.0</td>\n",
              "      <td>1923.0</td>\n",
              "      <td>2480.0</td>\n",
              "      <td>1815.0</td>\n",
              "      <td>2511.5</td>\n",
              "      <td>2906.0</td>\n",
              "      <td>2249.5</td>\n",
              "      <td>2758.0</td>\n",
              "      <td>3683.0</td>\n",
              "      <td>2519.5</td>\n",
              "      <td>2797.0</td>\n",
              "      <td>2547.5</td>\n",
              "      <td>2497.0</td>\n",
              "      <td>2281.0</td>\n",
              "      <td>2266.0</td>\n",
              "      <td>2558.5</td>\n",
              "      <td>1694.5</td>\n",
              "      <td>2257.5</td>\n",
              "      <td>2931.0</td>\n",
              "      <td>1935.5</td>\n",
              "      <td>2845.5</td>\n",
              "      <td>2434.5</td>\n",
              "      <td>...</td>\n",
              "      <td>2593.5</td>\n",
              "      <td>658.0</td>\n",
              "      <td>1971.0</td>\n",
              "      <td>1845.0</td>\n",
              "      <td>1917.0</td>\n",
              "      <td>2412.0</td>\n",
              "      <td>3606.5</td>\n",
              "      <td>3009.5</td>\n",
              "      <td>1762.5</td>\n",
              "      <td>4432.5</td>\n",
              "      <td>1343.0</td>\n",
              "      <td>2498.0</td>\n",
              "      <td>2419.0</td>\n",
              "      <td>3034.0</td>\n",
              "      <td>1589.0</td>\n",
              "      <td>2435.0</td>\n",
              "      <td>1417.5</td>\n",
              "      <td>2638.0</td>\n",
              "      <td>2638.0</td>\n",
              "      <td>2638.0</td>\n",
              "      <td>2630.0</td>\n",
              "      <td>2630.0</td>\n",
              "      <td>2220.5</td>\n",
              "      <td>2220.5</td>\n",
              "      <td>1893.0</td>\n",
              "      <td>1893.0</td>\n",
              "      <td>2141.5</td>\n",
              "      <td>2141.5</td>\n",
              "      <td>2041.0</td>\n",
              "      <td>2041.0</td>\n",
              "      <td>1707.5</td>\n",
              "      <td>1707.5</td>\n",
              "      <td>2200.0</td>\n",
              "      <td>2200.0</td>\n",
              "      <td>2351.0</td>\n",
              "      <td>2351.0</td>\n",
              "      <td>4632.0</td>\n",
              "      <td>4632.0</td>\n",
              "      <td>606.0</td>\n",
              "      <td>606.0</td>\n",
              "    </tr>\n",
              "    <tr>\n",
              "      <th>2000-04-01</th>\n",
              "      <td>3034.0</td>\n",
              "      <td>3877.5</td>\n",
              "      <td>4423.5</td>\n",
              "      <td>4313.0</td>\n",
              "      <td>3626.0</td>\n",
              "      <td>3147.0</td>\n",
              "      <td>5193.0</td>\n",
              "      <td>6690.0</td>\n",
              "      <td>2938.0</td>\n",
              "      <td>5563.0</td>\n",
              "      <td>4505.0</td>\n",
              "      <td>2380.5</td>\n",
              "      <td>1783.5</td>\n",
              "      <td>1807.5</td>\n",
              "      <td>4156.0</td>\n",
              "      <td>2095.0</td>\n",
              "      <td>4729.5</td>\n",
              "      <td>4677.5</td>\n",
              "      <td>2207.0</td>\n",
              "      <td>3040.0</td>\n",
              "      <td>3733.5</td>\n",
              "      <td>4699.5</td>\n",
              "      <td>4904.5</td>\n",
              "      <td>3825.0</td>\n",
              "      <td>4098.0</td>\n",
              "      <td>3519.5</td>\n",
              "      <td>5163.0</td>\n",
              "      <td>2781.5</td>\n",
              "      <td>3744.5</td>\n",
              "      <td>2916.5</td>\n",
              "      <td>3941.5</td>\n",
              "      <td>3422.0</td>\n",
              "      <td>4387.0</td>\n",
              "      <td>4440.5</td>\n",
              "      <td>4294.0</td>\n",
              "      <td>2451.0</td>\n",
              "      <td>2650.5</td>\n",
              "      <td>3039.0</td>\n",
              "      <td>2642.5</td>\n",
              "      <td>3907.0</td>\n",
              "      <td>...</td>\n",
              "      <td>4110.5</td>\n",
              "      <td>1366.5</td>\n",
              "      <td>2797.5</td>\n",
              "      <td>2915.5</td>\n",
              "      <td>3854.5</td>\n",
              "      <td>4421.5</td>\n",
              "      <td>4520.5</td>\n",
              "      <td>2106.0</td>\n",
              "      <td>3950.5</td>\n",
              "      <td>5339.5</td>\n",
              "      <td>2569.0</td>\n",
              "      <td>6152.5</td>\n",
              "      <td>2515.0</td>\n",
              "      <td>3960.5</td>\n",
              "      <td>2940.5</td>\n",
              "      <td>2713.5</td>\n",
              "      <td>1931.0</td>\n",
              "      <td>3108.5</td>\n",
              "      <td>3108.5</td>\n",
              "      <td>3108.5</td>\n",
              "      <td>4045.0</td>\n",
              "      <td>4045.0</td>\n",
              "      <td>2821.5</td>\n",
              "      <td>2821.5</td>\n",
              "      <td>4599.0</td>\n",
              "      <td>4599.0</td>\n",
              "      <td>3609.0</td>\n",
              "      <td>3609.0</td>\n",
              "      <td>3357.5</td>\n",
              "      <td>3357.5</td>\n",
              "      <td>3911.5</td>\n",
              "      <td>3911.5</td>\n",
              "      <td>3002.5</td>\n",
              "      <td>3002.5</td>\n",
              "      <td>2802.5</td>\n",
              "      <td>2802.5</td>\n",
              "      <td>4008.5</td>\n",
              "      <td>4008.5</td>\n",
              "      <td>1998.5</td>\n",
              "      <td>1998.5</td>\n",
              "    </tr>\n",
              "    <tr>\n",
              "      <th>2000-05-01</th>\n",
              "      <td>7056.0</td>\n",
              "      <td>5488.5</td>\n",
              "      <td>6290.0</td>\n",
              "      <td>6206.0</td>\n",
              "      <td>5632.0</td>\n",
              "      <td>4475.5</td>\n",
              "      <td>7045.5</td>\n",
              "      <td>7676.5</td>\n",
              "      <td>6149.5</td>\n",
              "      <td>7363.5</td>\n",
              "      <td>7164.5</td>\n",
              "      <td>3784.5</td>\n",
              "      <td>4060.0</td>\n",
              "      <td>5611.5</td>\n",
              "      <td>4880.0</td>\n",
              "      <td>1814.0</td>\n",
              "      <td>5651.5</td>\n",
              "      <td>5094.5</td>\n",
              "      <td>6145.0</td>\n",
              "      <td>5774.5</td>\n",
              "      <td>6485.0</td>\n",
              "      <td>6059.5</td>\n",
              "      <td>7365.0</td>\n",
              "      <td>6359.5</td>\n",
              "      <td>5953.5</td>\n",
              "      <td>6791.0</td>\n",
              "      <td>6627.5</td>\n",
              "      <td>5591.5</td>\n",
              "      <td>6034.0</td>\n",
              "      <td>5815.5</td>\n",
              "      <td>6659.0</td>\n",
              "      <td>6712.5</td>\n",
              "      <td>6892.0</td>\n",
              "      <td>6621.0</td>\n",
              "      <td>7221.0</td>\n",
              "      <td>7299.0</td>\n",
              "      <td>3511.5</td>\n",
              "      <td>3511.5</td>\n",
              "      <td>3770.5</td>\n",
              "      <td>7097.5</td>\n",
              "      <td>...</td>\n",
              "      <td>5371.0</td>\n",
              "      <td>3069.0</td>\n",
              "      <td>5073.0</td>\n",
              "      <td>4892.0</td>\n",
              "      <td>7559.0</td>\n",
              "      <td>5969.5</td>\n",
              "      <td>5084.0</td>\n",
              "      <td>6023.5</td>\n",
              "      <td>6100.5</td>\n",
              "      <td>4930.0</td>\n",
              "      <td>5684.0</td>\n",
              "      <td>7637.5</td>\n",
              "      <td>6579.0</td>\n",
              "      <td>4405.5</td>\n",
              "      <td>5104.0</td>\n",
              "      <td>5095.0</td>\n",
              "      <td>3440.0</td>\n",
              "      <td>3410.0</td>\n",
              "      <td>3410.0</td>\n",
              "      <td>3410.0</td>\n",
              "      <td>5302.0</td>\n",
              "      <td>5302.0</td>\n",
              "      <td>3030.0</td>\n",
              "      <td>3030.0</td>\n",
              "      <td>7215.0</td>\n",
              "      <td>7215.0</td>\n",
              "      <td>4830.5</td>\n",
              "      <td>4830.5</td>\n",
              "      <td>5624.5</td>\n",
              "      <td>5624.5</td>\n",
              "      <td>6664.0</td>\n",
              "      <td>6664.0</td>\n",
              "      <td>4458.0</td>\n",
              "      <td>4458.0</td>\n",
              "      <td>4168.5</td>\n",
              "      <td>4168.5</td>\n",
              "      <td>5408.5</td>\n",
              "      <td>5408.5</td>\n",
              "      <td>3026.0</td>\n",
              "      <td>3026.0</td>\n",
              "    </tr>\n",
              "    <tr>\n",
              "      <th>2000-06-01</th>\n",
              "      <td>6875.0</td>\n",
              "      <td>5840.5</td>\n",
              "      <td>6703.5</td>\n",
              "      <td>6343.0</td>\n",
              "      <td>5668.5</td>\n",
              "      <td>5226.0</td>\n",
              "      <td>6523.5</td>\n",
              "      <td>7610.0</td>\n",
              "      <td>6100.0</td>\n",
              "      <td>7093.5</td>\n",
              "      <td>6391.5</td>\n",
              "      <td>5763.0</td>\n",
              "      <td>6268.5</td>\n",
              "      <td>5840.0</td>\n",
              "      <td>3756.0</td>\n",
              "      <td>1254.0</td>\n",
              "      <td>4926.5</td>\n",
              "      <td>6275.0</td>\n",
              "      <td>6256.0</td>\n",
              "      <td>6564.0</td>\n",
              "      <td>6440.0</td>\n",
              "      <td>7143.0</td>\n",
              "      <td>7657.0</td>\n",
              "      <td>6656.5</td>\n",
              "      <td>5683.0</td>\n",
              "      <td>5995.5</td>\n",
              "      <td>5212.0</td>\n",
              "      <td>5443.0</td>\n",
              "      <td>5345.0</td>\n",
              "      <td>6171.0</td>\n",
              "      <td>6751.5</td>\n",
              "      <td>6573.0</td>\n",
              "      <td>5459.5</td>\n",
              "      <td>6231.5</td>\n",
              "      <td>7050.5</td>\n",
              "      <td>7233.0</td>\n",
              "      <td>3457.0</td>\n",
              "      <td>5081.5</td>\n",
              "      <td>5452.0</td>\n",
              "      <td>6216.5</td>\n",
              "      <td>...</td>\n",
              "      <td>4880.0</td>\n",
              "      <td>3489.0</td>\n",
              "      <td>5106.0</td>\n",
              "      <td>5522.0</td>\n",
              "      <td>6960.0</td>\n",
              "      <td>6701.0</td>\n",
              "      <td>6548.5</td>\n",
              "      <td>5085.0</td>\n",
              "      <td>4246.5</td>\n",
              "      <td>5610.5</td>\n",
              "      <td>6502.5</td>\n",
              "      <td>6844.5</td>\n",
              "      <td>5872.5</td>\n",
              "      <td>5835.5</td>\n",
              "      <td>5105.0</td>\n",
              "      <td>5078.5</td>\n",
              "      <td>4229.5</td>\n",
              "      <td>3931.5</td>\n",
              "      <td>3931.5</td>\n",
              "      <td>3931.5</td>\n",
              "      <td>6395.0</td>\n",
              "      <td>6395.0</td>\n",
              "      <td>3001.5</td>\n",
              "      <td>3001.5</td>\n",
              "      <td>7564.5</td>\n",
              "      <td>7564.5</td>\n",
              "      <td>5130.0</td>\n",
              "      <td>5130.0</td>\n",
              "      <td>3612.0</td>\n",
              "      <td>3612.0</td>\n",
              "      <td>5288.0</td>\n",
              "      <td>5288.0</td>\n",
              "      <td>4299.5</td>\n",
              "      <td>4299.5</td>\n",
              "      <td>4477.5</td>\n",
              "      <td>4477.5</td>\n",
              "      <td>3231.5</td>\n",
              "      <td>3231.5</td>\n",
              "      <td>3894.0</td>\n",
              "      <td>3894.0</td>\n",
              "    </tr>\n",
              "    <tr>\n",
              "      <th>...</th>\n",
              "      <td>...</td>\n",
              "      <td>...</td>\n",
              "      <td>...</td>\n",
              "      <td>...</td>\n",
              "      <td>...</td>\n",
              "      <td>...</td>\n",
              "      <td>...</td>\n",
              "      <td>...</td>\n",
              "      <td>...</td>\n",
              "      <td>...</td>\n",
              "      <td>...</td>\n",
              "      <td>...</td>\n",
              "      <td>...</td>\n",
              "      <td>...</td>\n",
              "      <td>...</td>\n",
              "      <td>...</td>\n",
              "      <td>...</td>\n",
              "      <td>...</td>\n",
              "      <td>...</td>\n",
              "      <td>...</td>\n",
              "      <td>...</td>\n",
              "      <td>...</td>\n",
              "      <td>...</td>\n",
              "      <td>...</td>\n",
              "      <td>...</td>\n",
              "      <td>...</td>\n",
              "      <td>...</td>\n",
              "      <td>...</td>\n",
              "      <td>...</td>\n",
              "      <td>...</td>\n",
              "      <td>...</td>\n",
              "      <td>...</td>\n",
              "      <td>...</td>\n",
              "      <td>...</td>\n",
              "      <td>...</td>\n",
              "      <td>...</td>\n",
              "      <td>...</td>\n",
              "      <td>...</td>\n",
              "      <td>...</td>\n",
              "      <td>...</td>\n",
              "      <td>...</td>\n",
              "      <td>...</td>\n",
              "      <td>...</td>\n",
              "      <td>...</td>\n",
              "      <td>...</td>\n",
              "      <td>...</td>\n",
              "      <td>...</td>\n",
              "      <td>...</td>\n",
              "      <td>...</td>\n",
              "      <td>...</td>\n",
              "      <td>...</td>\n",
              "      <td>...</td>\n",
              "      <td>...</td>\n",
              "      <td>...</td>\n",
              "      <td>...</td>\n",
              "      <td>...</td>\n",
              "      <td>...</td>\n",
              "      <td>...</td>\n",
              "      <td>...</td>\n",
              "      <td>...</td>\n",
              "      <td>...</td>\n",
              "      <td>...</td>\n",
              "      <td>...</td>\n",
              "      <td>...</td>\n",
              "      <td>...</td>\n",
              "      <td>...</td>\n",
              "      <td>...</td>\n",
              "      <td>...</td>\n",
              "      <td>...</td>\n",
              "      <td>...</td>\n",
              "      <td>...</td>\n",
              "      <td>...</td>\n",
              "      <td>...</td>\n",
              "      <td>...</td>\n",
              "      <td>...</td>\n",
              "      <td>...</td>\n",
              "      <td>...</td>\n",
              "      <td>...</td>\n",
              "      <td>...</td>\n",
              "      <td>...</td>\n",
              "      <td>...</td>\n",
              "    </tr>\n",
              "    <tr>\n",
              "      <th>2019-02-01</th>\n",
              "      <td>2456.0</td>\n",
              "      <td>2705.5</td>\n",
              "      <td>2300.5</td>\n",
              "      <td>2364.5</td>\n",
              "      <td>3162.0</td>\n",
              "      <td>2726.0</td>\n",
              "      <td>1910.0</td>\n",
              "      <td>2764.5</td>\n",
              "      <td>1117.5</td>\n",
              "      <td>1650.0</td>\n",
              "      <td>1198.5</td>\n",
              "      <td>2189.5</td>\n",
              "      <td>1146.0</td>\n",
              "      <td>2470.5</td>\n",
              "      <td>2110.5</td>\n",
              "      <td>-720.5</td>\n",
              "      <td>3278.0</td>\n",
              "      <td>1368.5</td>\n",
              "      <td>992.0</td>\n",
              "      <td>1853.5</td>\n",
              "      <td>1916.5</td>\n",
              "      <td>2240.0</td>\n",
              "      <td>2113.5</td>\n",
              "      <td>2755.0</td>\n",
              "      <td>2534.0</td>\n",
              "      <td>1298.5</td>\n",
              "      <td>3334.0</td>\n",
              "      <td>2548.0</td>\n",
              "      <td>2487.0</td>\n",
              "      <td>753.5</td>\n",
              "      <td>1872.0</td>\n",
              "      <td>2472.0</td>\n",
              "      <td>2564.0</td>\n",
              "      <td>2057.5</td>\n",
              "      <td>2158.5</td>\n",
              "      <td>2527.5</td>\n",
              "      <td>2955.5</td>\n",
              "      <td>2765.5</td>\n",
              "      <td>3664.0</td>\n",
              "      <td>2199.5</td>\n",
              "      <td>...</td>\n",
              "      <td>2381.5</td>\n",
              "      <td>1249.0</td>\n",
              "      <td>2898.0</td>\n",
              "      <td>2467.5</td>\n",
              "      <td>1697.5</td>\n",
              "      <td>2239.5</td>\n",
              "      <td>2676.5</td>\n",
              "      <td>1545.0</td>\n",
              "      <td>1990.5</td>\n",
              "      <td>1892.0</td>\n",
              "      <td>1305.0</td>\n",
              "      <td>2123.5</td>\n",
              "      <td>2552.5</td>\n",
              "      <td>1744.5</td>\n",
              "      <td>796.5</td>\n",
              "      <td>2610.0</td>\n",
              "      <td>1281.0</td>\n",
              "      <td>2861.0</td>\n",
              "      <td>2861.0</td>\n",
              "      <td>2861.0</td>\n",
              "      <td>2843.0</td>\n",
              "      <td>2843.0</td>\n",
              "      <td>2390.0</td>\n",
              "      <td>2390.0</td>\n",
              "      <td>1876.5</td>\n",
              "      <td>1876.5</td>\n",
              "      <td>2409.0</td>\n",
              "      <td>2409.0</td>\n",
              "      <td>2048.0</td>\n",
              "      <td>2048.0</td>\n",
              "      <td>2392.5</td>\n",
              "      <td>2392.5</td>\n",
              "      <td>2387.5</td>\n",
              "      <td>2387.5</td>\n",
              "      <td>2757.0</td>\n",
              "      <td>2757.0</td>\n",
              "      <td>2565.0</td>\n",
              "      <td>2565.0</td>\n",
              "      <td>438.0</td>\n",
              "      <td>438.0</td>\n",
              "    </tr>\n",
              "    <tr>\n",
              "      <th>2019-03-01</th>\n",
              "      <td>2976.0</td>\n",
              "      <td>2827.5</td>\n",
              "      <td>2815.5</td>\n",
              "      <td>2961.5</td>\n",
              "      <td>2997.0</td>\n",
              "      <td>2813.0</td>\n",
              "      <td>1840.0</td>\n",
              "      <td>3078.0</td>\n",
              "      <td>2269.0</td>\n",
              "      <td>1780.5</td>\n",
              "      <td>1976.0</td>\n",
              "      <td>2189.5</td>\n",
              "      <td>2697.5</td>\n",
              "      <td>2542.5</td>\n",
              "      <td>3279.0</td>\n",
              "      <td>675.0</td>\n",
              "      <td>4289.5</td>\n",
              "      <td>2027.0</td>\n",
              "      <td>1672.0</td>\n",
              "      <td>2248.0</td>\n",
              "      <td>2872.5</td>\n",
              "      <td>2181.5</td>\n",
              "      <td>2394.0</td>\n",
              "      <td>2612.0</td>\n",
              "      <td>3231.5</td>\n",
              "      <td>1607.0</td>\n",
              "      <td>4016.0</td>\n",
              "      <td>2440.0</td>\n",
              "      <td>2778.5</td>\n",
              "      <td>2901.5</td>\n",
              "      <td>2720.5</td>\n",
              "      <td>2732.5</td>\n",
              "      <td>3384.5</td>\n",
              "      <td>2621.0</td>\n",
              "      <td>2233.0</td>\n",
              "      <td>2837.0</td>\n",
              "      <td>3254.0</td>\n",
              "      <td>2821.0</td>\n",
              "      <td>4003.5</td>\n",
              "      <td>2527.0</td>\n",
              "      <td>...</td>\n",
              "      <td>2949.5</td>\n",
              "      <td>1151.5</td>\n",
              "      <td>2511.5</td>\n",
              "      <td>2237.5</td>\n",
              "      <td>2528.5</td>\n",
              "      <td>2505.0</td>\n",
              "      <td>2701.5</td>\n",
              "      <td>2829.0</td>\n",
              "      <td>2321.5</td>\n",
              "      <td>2789.5</td>\n",
              "      <td>1302.5</td>\n",
              "      <td>2151.0</td>\n",
              "      <td>2260.5</td>\n",
              "      <td>2858.0</td>\n",
              "      <td>1082.0</td>\n",
              "      <td>3388.5</td>\n",
              "      <td>1213.5</td>\n",
              "      <td>2978.5</td>\n",
              "      <td>2978.5</td>\n",
              "      <td>2978.5</td>\n",
              "      <td>3120.0</td>\n",
              "      <td>3120.0</td>\n",
              "      <td>2804.5</td>\n",
              "      <td>2804.5</td>\n",
              "      <td>1886.5</td>\n",
              "      <td>1886.5</td>\n",
              "      <td>1942.5</td>\n",
              "      <td>1942.5</td>\n",
              "      <td>2215.0</td>\n",
              "      <td>2215.0</td>\n",
              "      <td>2627.5</td>\n",
              "      <td>2627.5</td>\n",
              "      <td>1870.5</td>\n",
              "      <td>1870.5</td>\n",
              "      <td>3247.0</td>\n",
              "      <td>3247.0</td>\n",
              "      <td>3892.0</td>\n",
              "      <td>3892.0</td>\n",
              "      <td>232.0</td>\n",
              "      <td>232.0</td>\n",
              "    </tr>\n",
              "    <tr>\n",
              "      <th>2019-04-01</th>\n",
              "      <td>3615.5</td>\n",
              "      <td>4167.5</td>\n",
              "      <td>5360.0</td>\n",
              "      <td>4979.5</td>\n",
              "      <td>3849.5</td>\n",
              "      <td>3224.5</td>\n",
              "      <td>4010.0</td>\n",
              "      <td>5866.5</td>\n",
              "      <td>2972.0</td>\n",
              "      <td>3822.5</td>\n",
              "      <td>2729.5</td>\n",
              "      <td>2312.5</td>\n",
              "      <td>2442.5</td>\n",
              "      <td>3564.5</td>\n",
              "      <td>3785.0</td>\n",
              "      <td>775.5</td>\n",
              "      <td>5230.0</td>\n",
              "      <td>3071.0</td>\n",
              "      <td>2450.0</td>\n",
              "      <td>3131.0</td>\n",
              "      <td>3173.0</td>\n",
              "      <td>4640.0</td>\n",
              "      <td>3734.5</td>\n",
              "      <td>3617.5</td>\n",
              "      <td>3768.5</td>\n",
              "      <td>4120.5</td>\n",
              "      <td>5675.0</td>\n",
              "      <td>3166.5</td>\n",
              "      <td>3967.5</td>\n",
              "      <td>3959.5</td>\n",
              "      <td>4351.5</td>\n",
              "      <td>4236.0</td>\n",
              "      <td>5471.0</td>\n",
              "      <td>4528.5</td>\n",
              "      <td>4235.5</td>\n",
              "      <td>3636.0</td>\n",
              "      <td>3335.5</td>\n",
              "      <td>2752.0</td>\n",
              "      <td>2752.5</td>\n",
              "      <td>5141.0</td>\n",
              "      <td>...</td>\n",
              "      <td>3500.0</td>\n",
              "      <td>1690.5</td>\n",
              "      <td>3259.0</td>\n",
              "      <td>2761.5</td>\n",
              "      <td>4036.0</td>\n",
              "      <td>3621.0</td>\n",
              "      <td>6507.0</td>\n",
              "      <td>4316.0</td>\n",
              "      <td>4141.0</td>\n",
              "      <td>3342.0</td>\n",
              "      <td>2538.0</td>\n",
              "      <td>4675.5</td>\n",
              "      <td>3074.5</td>\n",
              "      <td>3331.0</td>\n",
              "      <td>2698.0</td>\n",
              "      <td>3521.5</td>\n",
              "      <td>1880.5</td>\n",
              "      <td>3413.5</td>\n",
              "      <td>3413.5</td>\n",
              "      <td>3413.5</td>\n",
              "      <td>4606.0</td>\n",
              "      <td>4606.0</td>\n",
              "      <td>2444.0</td>\n",
              "      <td>2444.0</td>\n",
              "      <td>3458.0</td>\n",
              "      <td>3458.0</td>\n",
              "      <td>3116.0</td>\n",
              "      <td>3116.0</td>\n",
              "      <td>2711.0</td>\n",
              "      <td>2711.0</td>\n",
              "      <td>3948.5</td>\n",
              "      <td>3948.5</td>\n",
              "      <td>3389.0</td>\n",
              "      <td>3389.0</td>\n",
              "      <td>4456.5</td>\n",
              "      <td>4456.5</td>\n",
              "      <td>4845.0</td>\n",
              "      <td>4845.0</td>\n",
              "      <td>1322.5</td>\n",
              "      <td>1322.5</td>\n",
              "    </tr>\n",
              "    <tr>\n",
              "      <th>2019-05-01</th>\n",
              "      <td>5769.0</td>\n",
              "      <td>7590.0</td>\n",
              "      <td>6516.5</td>\n",
              "      <td>6280.0</td>\n",
              "      <td>5633.0</td>\n",
              "      <td>5150.0</td>\n",
              "      <td>7396.0</td>\n",
              "      <td>4032.0</td>\n",
              "      <td>5430.0</td>\n",
              "      <td>7127.0</td>\n",
              "      <td>6698.5</td>\n",
              "      <td>4138.0</td>\n",
              "      <td>4223.0</td>\n",
              "      <td>5861.0</td>\n",
              "      <td>4915.5</td>\n",
              "      <td>1013.0</td>\n",
              "      <td>4724.5</td>\n",
              "      <td>4222.5</td>\n",
              "      <td>5972.0</td>\n",
              "      <td>4746.5</td>\n",
              "      <td>5872.0</td>\n",
              "      <td>5826.0</td>\n",
              "      <td>7244.0</td>\n",
              "      <td>6597.5</td>\n",
              "      <td>5124.5</td>\n",
              "      <td>5953.0</td>\n",
              "      <td>5521.5</td>\n",
              "      <td>5367.5</td>\n",
              "      <td>6523.0</td>\n",
              "      <td>5564.5</td>\n",
              "      <td>6172.0</td>\n",
              "      <td>7071.5</td>\n",
              "      <td>6451.0</td>\n",
              "      <td>6480.0</td>\n",
              "      <td>6467.0</td>\n",
              "      <td>6059.0</td>\n",
              "      <td>3146.0</td>\n",
              "      <td>3330.0</td>\n",
              "      <td>4638.0</td>\n",
              "      <td>6998.0</td>\n",
              "      <td>...</td>\n",
              "      <td>5288.5</td>\n",
              "      <td>3495.0</td>\n",
              "      <td>3629.0</td>\n",
              "      <td>5284.5</td>\n",
              "      <td>5884.0</td>\n",
              "      <td>6713.5</td>\n",
              "      <td>6611.0</td>\n",
              "      <td>5932.5</td>\n",
              "      <td>6039.5</td>\n",
              "      <td>3472.0</td>\n",
              "      <td>5874.0</td>\n",
              "      <td>6776.0</td>\n",
              "      <td>6353.5</td>\n",
              "      <td>5266.5</td>\n",
              "      <td>6068.5</td>\n",
              "      <td>3925.0</td>\n",
              "      <td>3666.0</td>\n",
              "      <td>3597.5</td>\n",
              "      <td>3597.5</td>\n",
              "      <td>3597.5</td>\n",
              "      <td>6997.5</td>\n",
              "      <td>6997.5</td>\n",
              "      <td>3724.5</td>\n",
              "      <td>3724.5</td>\n",
              "      <td>7115.0</td>\n",
              "      <td>7115.0</td>\n",
              "      <td>5594.5</td>\n",
              "      <td>5594.5</td>\n",
              "      <td>5964.5</td>\n",
              "      <td>5964.5</td>\n",
              "      <td>6893.0</td>\n",
              "      <td>6893.0</td>\n",
              "      <td>4509.5</td>\n",
              "      <td>4509.5</td>\n",
              "      <td>6163.0</td>\n",
              "      <td>6163.0</td>\n",
              "      <td>6438.0</td>\n",
              "      <td>6438.0</td>\n",
              "      <td>3008.5</td>\n",
              "      <td>3008.5</td>\n",
              "    </tr>\n",
              "    <tr>\n",
              "      <th>2019-06-01</th>\n",
              "      <td>5616.0</td>\n",
              "      <td>5839.0</td>\n",
              "      <td>6262.0</td>\n",
              "      <td>7015.0</td>\n",
              "      <td>5545.0</td>\n",
              "      <td>5690.0</td>\n",
              "      <td>7350.0</td>\n",
              "      <td>6362.0</td>\n",
              "      <td>7053.0</td>\n",
              "      <td>8149.0</td>\n",
              "      <td>6410.0</td>\n",
              "      <td>4916.0</td>\n",
              "      <td>6130.0</td>\n",
              "      <td>5065.0</td>\n",
              "      <td>5365.0</td>\n",
              "      <td>3369.0</td>\n",
              "      <td>4709.0</td>\n",
              "      <td>5666.0</td>\n",
              "      <td>6132.0</td>\n",
              "      <td>5655.0</td>\n",
              "      <td>4859.0</td>\n",
              "      <td>6569.0</td>\n",
              "      <td>6892.0</td>\n",
              "      <td>5346.0</td>\n",
              "      <td>5418.0</td>\n",
              "      <td>6529.0</td>\n",
              "      <td>5190.0</td>\n",
              "      <td>5467.0</td>\n",
              "      <td>5465.0</td>\n",
              "      <td>6851.0</td>\n",
              "      <td>7202.0</td>\n",
              "      <td>6918.0</td>\n",
              "      <td>6869.0</td>\n",
              "      <td>6656.0</td>\n",
              "      <td>5586.0</td>\n",
              "      <td>5610.0</td>\n",
              "      <td>3187.0</td>\n",
              "      <td>5589.0</td>\n",
              "      <td>4655.0</td>\n",
              "      <td>7308.0</td>\n",
              "      <td>...</td>\n",
              "      <td>5535.0</td>\n",
              "      <td>5230.0</td>\n",
              "      <td>5741.0</td>\n",
              "      <td>5607.0</td>\n",
              "      <td>5673.0</td>\n",
              "      <td>6683.0</td>\n",
              "      <td>6604.0</td>\n",
              "      <td>5632.0</td>\n",
              "      <td>6683.0</td>\n",
              "      <td>5794.0</td>\n",
              "      <td>6446.0</td>\n",
              "      <td>6701.0</td>\n",
              "      <td>5455.0</td>\n",
              "      <td>5196.0</td>\n",
              "      <td>5068.0</td>\n",
              "      <td>5175.0</td>\n",
              "      <td>4486.0</td>\n",
              "      <td>3517.0</td>\n",
              "      <td>3517.0</td>\n",
              "      <td>3517.0</td>\n",
              "      <td>6659.0</td>\n",
              "      <td>6659.0</td>\n",
              "      <td>4464.0</td>\n",
              "      <td>4464.0</td>\n",
              "      <td>6905.0</td>\n",
              "      <td>6905.0</td>\n",
              "      <td>5613.0</td>\n",
              "      <td>5613.0</td>\n",
              "      <td>6232.0</td>\n",
              "      <td>6232.0</td>\n",
              "      <td>6959.0</td>\n",
              "      <td>6959.0</td>\n",
              "      <td>5815.0</td>\n",
              "      <td>5815.0</td>\n",
              "      <td>6880.0</td>\n",
              "      <td>6880.0</td>\n",
              "      <td>4398.0</td>\n",
              "      <td>4398.0</td>\n",
              "      <td>6045.0</td>\n",
              "      <td>6045.0</td>\n",
              "    </tr>\n",
              "  </tbody>\n",
              "</table>\n",
              "<p>233 rows × 590 columns</p>\n",
              "</div>"
            ],
            "text/plain": [
              "siteID        FS25   FS54a    FS02    FS60  ...    UK32     BWS  VERM19  VERM17\n",
              "2000-02-01  2930.0  2824.0  2808.0  2293.0  ...  2790.0  2790.0    94.0    94.0\n",
              "2000-03-01  2750.0  2737.0  2226.5  2345.0  ...  4632.0  4632.0   606.0   606.0\n",
              "2000-04-01  3034.0  3877.5  4423.5  4313.0  ...  4008.5  4008.5  1998.5  1998.5\n",
              "2000-05-01  7056.0  5488.5  6290.0  6206.0  ...  5408.5  5408.5  3026.0  3026.0\n",
              "2000-06-01  6875.0  5840.5  6703.5  6343.0  ...  3231.5  3231.5  3894.0  3894.0\n",
              "...            ...     ...     ...     ...  ...     ...     ...     ...     ...\n",
              "2019-02-01  2456.0  2705.5  2300.5  2364.5  ...  2565.0  2565.0   438.0   438.0\n",
              "2019-03-01  2976.0  2827.5  2815.5  2961.5  ...  3892.0  3892.0   232.0   232.0\n",
              "2019-04-01  3615.5  4167.5  5360.0  4979.5  ...  4845.0  4845.0  1322.5  1322.5\n",
              "2019-05-01  5769.0  7590.0  6516.5  6280.0  ...  6438.0  6438.0  3008.5  3008.5\n",
              "2019-06-01  5616.0  5839.0  6262.0  7015.0  ...  4398.0  4398.0  6045.0  6045.0\n",
              "\n",
              "[233 rows x 590 columns]"
            ]
          },
          "metadata": {
            "tags": []
          },
          "execution_count": 6
        }
      ]
    },
    {
      "cell_type": "markdown",
      "metadata": {
        "id": "hbpxKqWGQXGE",
        "colab_type": "text"
      },
      "source": [
        "# installing DeepTemporalClustering"
      ]
    },
    {
      "cell_type": "code",
      "metadata": {
        "id": "toPYKh37D6X5",
        "colab_type": "code",
        "colab": {
          "base_uri": "https://localhost:8080/",
          "height": 117
        },
        "outputId": "4655ec77-3424-4a22-8bf5-0badefd50350"
      },
      "source": [
        "! git clone https://github.com/FlorentF9/DeepTemporalClustering.git"
      ],
      "execution_count": null,
      "outputs": [
        {
          "output_type": "stream",
          "text": [
            "Cloning into 'DeepTemporalClustering'...\n",
            "remote: Enumerating objects: 41, done.\u001b[K\n",
            "remote: Counting objects: 100% (41/41), done.\u001b[K\n",
            "remote: Compressing objects: 100% (25/25), done.\u001b[K\n",
            "remote: Total 41 (delta 18), reused 34 (delta 14), pack-reused 0\u001b[K\n",
            "Unpacking objects: 100% (41/41), done.\n"
          ],
          "name": "stdout"
        }
      ]
    },
    {
      "cell_type": "markdown",
      "metadata": {
        "id": "4bx69ipDPdoM",
        "colab_type": "text"
      },
      "source": [
        "<b>P.S :</b> installed on 22/6/20\n",
        "\n",
        "hash of latest commit on 22/6/20:\n",
        "- 702f24c9507b5727509623993258205838a2f3e7\n",
        "\n",
        "for Replicability next time: \n",
        "\n",
        ">git clone https://github.com/FlorentF9/DeepTemporalClustering.git\n",
        "cd DeepTemporalClustering\n",
        "git checkout 702f24c9507b5727509623993258205838a2f3e7\n"
      ]
    },
    {
      "cell_type": "code",
      "metadata": {
        "id": "FIQZ3DHMGp6C",
        "colab_type": "code",
        "colab": {
          "base_uri": "https://localhost:8080/",
          "height": 253
        },
        "outputId": "a1fe4fcb-e78e-4b2d-e81a-f02e5bbd325e"
      },
      "source": [
        "! pip install tslearn"
      ],
      "execution_count": null,
      "outputs": [
        {
          "output_type": "stream",
          "text": [
            "Collecting tslearn\n",
            "\u001b[?25l  Downloading https://files.pythonhosted.org/packages/a7/67/aa3149fdfef2582d881ce4a5117c9e6a465d5082dd57866904ca508a157c/tslearn-0.4.1-cp36-cp36m-manylinux2010_x86_64.whl (770kB)\n",
            "\u001b[K     |████████████████████████████████| 778kB 2.9MB/s \n",
            "\u001b[?25hRequirement already satisfied: scipy in /usr/local/lib/python3.6/dist-packages (from tslearn) (1.4.1)\n",
            "Requirement already satisfied: scikit-learn in /usr/local/lib/python3.6/dist-packages (from tslearn) (0.22.2.post1)\n",
            "Requirement already satisfied: numpy in /usr/local/lib/python3.6/dist-packages (from tslearn) (1.18.5)\n",
            "Requirement already satisfied: numba in /usr/local/lib/python3.6/dist-packages (from tslearn) (0.48.0)\n",
            "Requirement already satisfied: joblib in /usr/local/lib/python3.6/dist-packages (from tslearn) (0.15.1)\n",
            "Requirement already satisfied: Cython in /usr/local/lib/python3.6/dist-packages (from tslearn) (0.29.20)\n",
            "Requirement already satisfied: llvmlite<0.32.0,>=0.31.0dev0 in /usr/local/lib/python3.6/dist-packages (from numba->tslearn) (0.31.0)\n",
            "Requirement already satisfied: setuptools in /usr/local/lib/python3.6/dist-packages (from numba->tslearn) (47.3.1)\n",
            "Installing collected packages: tslearn\n",
            "Successfully installed tslearn-0.4.1\n"
          ],
          "name": "stdout"
        }
      ]
    },
    {
      "cell_type": "code",
      "metadata": {
        "id": "dYqf8CbrGVux",
        "colab_type": "code",
        "colab": {
          "base_uri": "https://localhost:8080/",
          "height": 1000
        },
        "outputId": "8046b579-78a7-40ee-b203-ff81de3609e4"
      },
      "source": [
        "! python3 DeepTemporalClustering/DeepTemporalClustering.py --help"
      ],
      "execution_count": null,
      "outputs": [
        {
          "output_type": "stream",
          "text": [
            "Using TensorFlow backend.\n",
            "2020-06-22 08:17:50.076741: I tensorflow/stream_executor/platform/default/dso_loader.cc:44] Successfully opened dynamic library libcudart.so.10.1\n",
            "/usr/local/lib/python3.6/dist-packages/sklearn/utils/linear_assignment_.py:22: FutureWarning: The linear_assignment_ module is deprecated in 0.21 and will be removed from 0.23. Use scipy.optimize.linear_sum_assignment instead.\n",
            "  FutureWarning)\n",
            "/usr/local/lib/python3.6/dist-packages/statsmodels/tools/_testing.py:19: FutureWarning: pandas.util.testing is deprecated. Use the functions in the public API at pandas.testing instead.\n",
            "  import pandas.util.testing as tm\n",
            "usage: DeepTemporalClustering.py [-h] [--dataset DATASET]\n",
            "                                 [--ae_weights AE_WEIGHTS]\n",
            "                                 [--n_clusters N_CLUSTERS]\n",
            "                                 [--n_filters N_FILTERS]\n",
            "                                 [--kernel_size KERNEL_SIZE]\n",
            "                                 [--strides STRIDES] [--pool_size POOL_SIZE]\n",
            "                                 [--n_units N_UNITS N_UNITS] [--gamma GAMMA]\n",
            "                                 [--alpha ALPHA]\n",
            "                                 [--dist_metric {eucl,cid,cor,acf}]\n",
            "                                 [--cluster_init {kmeans,hierarchical}]\n",
            "                                 [--heatmap HEATMAP]\n",
            "                                 [--pretrain_epochs PRETRAIN_EPOCHS]\n",
            "                                 [--epochs EPOCHS] [--eval_epochs EVAL_EPOCHS]\n",
            "                                 [--save_epochs SAVE_EPOCHS]\n",
            "                                 [--batch_size BATCH_SIZE] [--tol TOL]\n",
            "                                 [--patience PATIENCE]\n",
            "                                 [--finetune_heatmap_at_epoch FINETUNE_HEATMAP_AT_EPOCH]\n",
            "                                 [--initial_heatmap_loss_weight INITIAL_HEATMAP_LOSS_WEIGHT]\n",
            "                                 [--final_heatmap_loss_weight FINAL_HEATMAP_LOSS_WEIGHT]\n",
            "                                 [--save_dir SAVE_DIR]\n",
            "\n",
            "train\n",
            "\n",
            "optional arguments:\n",
            "  -h, --help            show this help message and exit\n",
            "  --dataset DATASET     UCR/UEA univariate or multivariate dataset (default:\n",
            "                        CBF)\n",
            "  --ae_weights AE_WEIGHTS\n",
            "                        pre-trained autoencoder weights (default: None)\n",
            "  --n_clusters N_CLUSTERS\n",
            "                        number of clusters (default: None)\n",
            "  --n_filters N_FILTERS\n",
            "                        number of filters in convolutional layer (default: 50)\n",
            "  --kernel_size KERNEL_SIZE\n",
            "                        size of kernel in convolutional layer (default: 10)\n",
            "  --strides STRIDES     strides in convolutional layer (default: 1)\n",
            "  --pool_size POOL_SIZE\n",
            "                        pooling size in max pooling layer (default: 10)\n",
            "  --n_units N_UNITS N_UNITS\n",
            "                        numbers of units in the BiLSTM layers (default: [50,\n",
            "                        1])\n",
            "  --gamma GAMMA         coefficient of clustering loss (default: 1.0)\n",
            "  --alpha ALPHA         coefficient in Student's kernel (default: 1.0)\n",
            "  --dist_metric {eucl,cid,cor,acf}\n",
            "                        distance metric between latent sequences (default:\n",
            "                        eucl)\n",
            "  --cluster_init {kmeans,hierarchical}\n",
            "                        cluster initialization method (default: kmeans)\n",
            "  --heatmap HEATMAP     train heatmap-generating network (default: False)\n",
            "  --pretrain_epochs PRETRAIN_EPOCHS\n",
            "  --epochs EPOCHS\n",
            "  --eval_epochs EVAL_EPOCHS\n",
            "  --save_epochs SAVE_EPOCHS\n",
            "  --batch_size BATCH_SIZE\n",
            "  --tol TOL             tolerance for stopping criterion (default: 0.001)\n",
            "  --patience PATIENCE   patience for stopping criterion (default: 5)\n",
            "  --finetune_heatmap_at_epoch FINETUNE_HEATMAP_AT_EPOCH\n",
            "                        epoch where heatmap finetuning starts (default: 8)\n",
            "  --initial_heatmap_loss_weight INITIAL_HEATMAP_LOSS_WEIGHT\n",
            "                        initial weight of heatmap loss vs clustering loss\n",
            "                        (default: 0.1)\n",
            "  --final_heatmap_loss_weight FINAL_HEATMAP_LOSS_WEIGHT\n",
            "                        final weight of heatmap loss vs clustering loss\n",
            "                        (heatmap finetuning) (default: 0.9)\n",
            "  --save_dir SAVE_DIR\n"
          ],
          "name": "stdout"
        }
      ]
    },
    {
      "cell_type": "markdown",
      "metadata": {
        "id": "d_kf2vNBMuIE",
        "colab_type": "text"
      },
      "source": [
        "# experimenting with deep temport clustering"
      ]
    },
    {
      "cell_type": "code",
      "metadata": {
        "id": "Z_XiuyvbIJZN",
        "colab_type": "code",
        "colab": {}
      },
      "source": [
        "from tslearn.datasets import UCR_UEA_datasets\n",
        "import matplotlib.pyplot as plt\n",
        "import os\n",
        "import numpy as np\n",
        "from time import time"
      ],
      "execution_count": null,
      "outputs": []
    },
    {
      "cell_type": "code",
      "metadata": {
        "id": "Nm-bdtTZUX5a",
        "colab_type": "code",
        "colab": {}
      },
      "source": [
        "# Dataset helper function\n",
        "#from DeepTemporalClustering import * \n",
        "from DeepTemporalClustering.datasets import load_data\n",
        "from DeepTemporalClustering.DeepTemporalClustering import DTC\n",
        "from DeepTemporalClustering.metrics import *"
      ],
      "execution_count": null,
      "outputs": []
    },
    {
      "cell_type": "markdown",
      "metadata": {
        "id": "_UmGrpe-M2Uu",
        "colab_type": "text"
      },
      "source": [
        "# Checking what the default data available"
      ]
    },
    {
      "cell_type": "code",
      "metadata": {
        "id": "c7U_6F3LI6wo",
        "colab_type": "code",
        "colab": {}
      },
      "source": [
        "ucr = UCR_UEA_datasets()"
      ],
      "execution_count": null,
      "outputs": []
    },
    {
      "cell_type": "code",
      "metadata": {
        "id": "8KWAFv1xI73A",
        "colab_type": "code",
        "colab": {}
      },
      "source": [
        "X_train, y_train, X_test, y_test = ucr.load_dataset('CBF')"
      ],
      "execution_count": null,
      "outputs": []
    },
    {
      "cell_type": "markdown",
      "metadata": {
        "id": "GlRlISdXM7Vz",
        "colab_type": "text"
      },
      "source": [
        "## shape of data"
      ]
    },
    {
      "cell_type": "code",
      "metadata": {
        "id": "52mYXzB7JFEi",
        "colab_type": "code",
        "colab": {
          "base_uri": "https://localhost:8080/",
          "height": 33
        },
        "outputId": "1d2c329a-9469-49e1-cd36-07b601769457"
      },
      "source": [
        "X_train.shape"
      ],
      "execution_count": null,
      "outputs": [
        {
          "output_type": "execute_result",
          "data": {
            "text/plain": [
              "(30, 128, 1)"
            ]
          },
          "metadata": {
            "tags": []
          },
          "execution_count": 20
        }
      ]
    },
    {
      "cell_type": "markdown",
      "metadata": {
        "id": "7ReKlpZqM86q",
        "colab_type": "text"
      },
      "source": [
        "## example of the available data"
      ]
    },
    {
      "cell_type": "code",
      "metadata": {
        "id": "pjG_ZFhxJQLE",
        "colab_type": "code",
        "colab": {
          "base_uri": "https://localhost:8080/",
          "height": 282
        },
        "outputId": "ac9fe4ac-51cf-4510-85f8-adcfefc05291"
      },
      "source": [
        "plt.plot(X_train.reshape(30,128)[0])"
      ],
      "execution_count": null,
      "outputs": [
        {
          "output_type": "execute_result",
          "data": {
            "text/plain": [
              "[<matplotlib.lines.Line2D at 0x7f633d0725f8>]"
            ]
          },
          "metadata": {
            "tags": []
          },
          "execution_count": 25
        },
        {
          "output_type": "display_data",
          "data": {
            "image/png": "[encoded data removed]",
            "text/plain": [
              "<Figure size 432x288 with 1 Axes>"
            ]
          },
          "metadata": {
            "tags": [],
            "needs_background": "light"
          }
        }
      ]
    },
    {
      "cell_type": "markdown",
      "metadata": {
        "id": "gDwDiqEDNA5r",
        "colab_type": "text"
      },
      "source": [
        "## training from code"
      ]
    },
    {
      "cell_type": "code",
      "metadata": {
        "id": "7D0PRWlRNLzg",
        "colab_type": "code",
        "colab": {}
      },
      "source": [
        "# arguments for the training\n",
        "\n",
        "# have used the predix input_ just to make sure there are no clash with \n",
        "# variable names (in case you were wondering)\n",
        "\n",
        "input_dataset = 'CBF'\n",
        "input_weights = None\n",
        "input_n_clusters = None\n",
        "input_n_filters = 50\n",
        "input_kernel_size = 10\n",
        "input_strides = 1\n",
        "input_pool_size = 32\n",
        "input_n_units = [50, 1]\n",
        "input_gamma = 1.0\n",
        "input_alpha = 1.0\n",
        "input_dist_metric = 'eucl' #choices include ['eucl', 'cid', 'cor', 'acf']\n",
        "input_cluster_init = 'kmeans' #choices include ['kmeans', 'hierarchical']\n",
        "input_heatmap = True #train heat map generating network\n",
        "input_pretrain_epochs = 10\n",
        "input_epochs = 100\n",
        "input_eval_epochs = 1\n",
        "input_save_epochs = 10\n",
        "input_batch_size = 64\n",
        "input_tol = 0.001\n",
        "input_patience = 5\n",
        "input_finetune_heatmap_at_epoch = 8\n",
        "input_initial_heatmap_loss_weight = 0.1\n",
        "input_final_heatmap_loss_weight = 0.9\n",
        "input_save_dir = 'results/tmp'\n"
      ],
      "execution_count": null,
      "outputs": []
    },
    {
      "cell_type": "code",
      "metadata": {
        "id": "GWzCHzr3NIEl",
        "colab_type": "code",
        "colab": {}
      },
      "source": [
        "# Create save directory if not exists\n",
        "if not os.path.exists(input_save_dir):\n",
        "    os.makedirs(input_save_dir)"
      ],
      "execution_count": null,
      "outputs": []
    },
    {
      "cell_type": "code",
      "metadata": {
        "id": "jHiDonywT9vf",
        "colab_type": "code",
        "colab": {}
      },
      "source": [
        "# Load data\n",
        "\n",
        "#the (None, None) dataset is where validation data can be entered\n",
        "(X_train, y_train), (X_val, y_val) = load_data(input_dataset) , (None,None)"
      ],
      "execution_count": null,
      "outputs": []
    },
    {
      "cell_type": "code",
      "metadata": {
        "id": "pKB6cX5uUvtE",
        "colab_type": "code",
        "colab": {}
      },
      "source": [
        "# Find number of clusters\n",
        "if input_n_clusters is None:\n",
        "    input_n_clusters = len(np.unique(y_train))"
      ],
      "execution_count": null,
      "outputs": []
    },
    {
      "cell_type": "code",
      "metadata": {
        "id": "_Rspq4NCWbbo",
        "colab_type": "code",
        "colab": {}
      },
      "source": [
        "# Set default values\n",
        "pretrain_optimizer = 'adam'"
      ],
      "execution_count": null,
      "outputs": []
    },
    {
      "cell_type": "code",
      "metadata": {
        "id": "BenMVwMmWf8V",
        "colab_type": "code",
        "colab": {}
      },
      "source": [
        "# Instantiate model\n",
        "dtc = DTC(n_clusters=input_n_clusters,\n",
        "          input_dim=X_train.shape[-1],\n",
        "          timesteps=X_train.shape[1],\n",
        "          n_filters=input_n_filters,\n",
        "          kernel_size=input_kernel_size,\n",
        "          strides=input_strides,\n",
        "          pool_size=input_pool_size,\n",
        "          n_units=input_n_units,\n",
        "          alpha=input_alpha,\n",
        "          dist_metric=input_dist_metric,\n",
        "          cluster_init=input_cluster_init,\n",
        "          heatmap=input_heatmap)"
      ],
      "execution_count": null,
      "outputs": []
    },
    {
      "cell_type": "code",
      "metadata": {
        "id": "Dpl2giKXhC9a",
        "colab_type": "code",
        "colab": {
          "base_uri": "https://localhost:8080/",
          "height": 783
        },
        "outputId": "211d848a-2a62-40c8-ca16-bf46eba26298"
      },
      "source": [
        "# Initialize model\n",
        "optimizer = 'adam'\n",
        "dtc.initialize()\n",
        "dtc.model.summary()\n",
        "dtc.compile(gamma=input_gamma, optimizer=optimizer, \n",
        "            initial_heatmap_loss_weight=input_initial_heatmap_loss_weight,\n",
        "            final_heatmap_loss_weight=input_final_heatmap_loss_weight)"
      ],
      "execution_count": null,
      "outputs": [
        {
          "output_type": "stream",
          "text": [
            "Model: \"model\"\n",
            "__________________________________________________________________________________________________\n",
            "Layer (type)                    Output Shape         Param #     Connected to                     \n",
            "==================================================================================================\n",
            "input_seq (InputLayer)          [(None, 128, 1)]     0                                            \n",
            "__________________________________________________________________________________________________\n",
            "conv1d (Conv1D)                 (None, 128, 50)      550         input_seq[0][0]                  \n",
            "__________________________________________________________________________________________________\n",
            "leaky_re_lu (LeakyReLU)         (None, 128, 50)      0           conv1d[0][0]                     \n",
            "__________________________________________________________________________________________________\n",
            "max_pooling1d (MaxPooling1D)    (None, 4, 50)        0           leaky_re_lu[0][0]                \n",
            "__________________________________________________________________________________________________\n",
            "bidirectional (Bidirectional)   (None, 4, 50)        40800       max_pooling1d[0][0]              \n",
            "__________________________________________________________________________________________________\n",
            "leaky_re_lu_1 (LeakyReLU)       (None, 4, 50)        0           bidirectional[0][0]              \n",
            "__________________________________________________________________________________________________\n",
            "bidirectional_1 (Bidirectional) (None, 4, 1)         424         leaky_re_lu_1[0][0]              \n",
            "__________________________________________________________________________________________________\n",
            "latent (LeakyReLU)              (None, 4, 1)         0           bidirectional_1[0][0]            \n",
            "__________________________________________________________________________________________________\n",
            "Heatmap_1 (Reshape)             (None, None, 1, 1)   0           latent[0][0]                     \n",
            "__________________________________________________________________________________________________\n",
            "up_sampling2d (UpSampling2D)    (None, None, 1, 1)   0           Heatmap_1[0][0]                  \n",
            "__________________________________________________________________________________________________\n",
            "reshape (Reshape)               (None, None, 1, 1)   0           latent[0][0]                     \n",
            "__________________________________________________________________________________________________\n",
            "conv2d_transpose (Conv2DTranspo (None, None, 1, 3)   33          up_sampling2d[0][0]              \n",
            "__________________________________________________________________________________________________\n",
            "upsampling (UpSampling2D)       (None, None, 1, 1)   0           reshape[0][0]                    \n",
            "__________________________________________________________________________________________________\n",
            "Heatmap_2 (Reshape)             (None, None, 3)      0           conv2d_transpose[0][0]           \n",
            "__________________________________________________________________________________________________\n",
            "conv2dtranspose (Conv2DTranspos (None, None, 1, 1)   11          upsampling[0][0]                 \n",
            "__________________________________________________________________________________________________\n",
            "global_average_pooling1d (Globa (None, 3)            0           Heatmap_2[0][0]                  \n",
            "__________________________________________________________________________________________________\n",
            "output_seq (Reshape)            (None, None, 1)      0           conv2dtranspose[0][0]            \n",
            "__________________________________________________________________________________________________\n",
            "TSClustering (TSClusteringLayer (None, 3)            12          latent[0][0]                     \n",
            "__________________________________________________________________________________________________\n",
            "softmax (Softmax)               (None, 3)            0           global_average_pooling1d[0][0]   \n",
            "==================================================================================================\n",
            "Total params: 41,830\n",
            "Trainable params: 41,830\n",
            "Non-trainable params: 0\n",
            "__________________________________________________________________________________________________\n"
          ],
          "name": "stdout"
        }
      ]
    },
    {
      "cell_type": "code",
      "metadata": {
        "id": "eADOJy0Ppe__",
        "colab_type": "code",
        "colab": {
          "base_uri": "https://localhost:8080/",
          "height": 400
        },
        "outputId": "87671a34-20f3-472b-ba14-0fbfb66aaa40"
      },
      "source": [
        "# Load pre-trained AE weights or pre-train\n",
        "\n",
        "# needs to use GPU or wont work/run\n",
        "\n",
        "if input_weights is None and input_pretrain_epochs > 0:\n",
        "    dtc.pretrain(X=X_train, optimizer=pretrain_optimizer,\n",
        "                  epochs=input_pretrain_epochs, batch_size=input_batch_size,\n",
        "                  save_dir=input_save_dir)\n",
        "elif input_ae_weights is not None:\n",
        "    dtc.load_ae_weights(input_ae_weights)"
      ],
      "execution_count": null,
      "outputs": [
        {
          "output_type": "stream",
          "text": [
            "Pretraining...\n",
            "Epoch 1/10\n",
            "15/15 [==============================] - 0s 18ms/step - loss: 0.9598\n",
            "Epoch 2/10\n",
            "15/15 [==============================] - 0s 10ms/step - loss: 0.8235\n",
            "Epoch 3/10\n",
            "15/15 [==============================] - 0s 10ms/step - loss: 0.6746\n",
            "Epoch 4/10\n",
            "15/15 [==============================] - 0s 9ms/step - loss: 0.5990\n",
            "Epoch 5/10\n",
            "15/15 [==============================] - 0s 10ms/step - loss: 0.5711\n",
            "Epoch 6/10\n",
            "15/15 [==============================] - 0s 10ms/step - loss: 0.5570\n",
            "Epoch 7/10\n",
            "15/15 [==============================] - 0s 10ms/step - loss: 0.5480\n",
            "Epoch 8/10\n",
            "15/15 [==============================] - 0s 10ms/step - loss: 0.5405\n",
            "Epoch 9/10\n",
            "15/15 [==============================] - 0s 10ms/step - loss: 0.5343\n",
            "Epoch 10/10\n",
            "15/15 [==============================] - 0s 10ms/step - loss: 0.5292\n",
            "Pretraining time:  10.481673240661621\n",
            "Pretrained weights are saved to results/tmp/ae_weights-epoch10.h5\n"
          ],
          "name": "stdout"
        }
      ]
    },
    {
      "cell_type": "code",
      "metadata": {
        "id": "iYNQMLu3r1TV",
        "colab_type": "code",
        "colab": {
          "base_uri": "https://localhost:8080/",
          "height": 50
        },
        "outputId": "c3bd4819-565c-422c-c00c-15747a97560b"
      },
      "source": [
        "# Initialize clusters\n",
        "dtc.init_cluster_weights(X_train)"
      ],
      "execution_count": null,
      "outputs": [
        {
          "output_type": "stream",
          "text": [
            "Initializing cluster...\n",
            "Done!\n"
          ],
          "name": "stdout"
        }
      ]
    },
    {
      "cell_type": "code",
      "metadata": {
        "id": "Bm1_xmI-r46V",
        "colab_type": "code",
        "colab": {
          "base_uri": "https://localhost:8080/",
          "height": 1000
        },
        "outputId": "20f160a4-aa04-4b86-cb28-f3e100f83936"
      },
      "source": [
        "# Fit model\n",
        "t0 = time()\n",
        "dtc.fit(X_train, y_train, X_val, y_val, input_epochs, input_eval_epochs, \n",
        "        input_save_epochs, input_batch_size,\n",
        "        input_tol, input_patience, input_finetune_heatmap_at_epoch, \n",
        "        input_save_dir)\n",
        "print('Training time: ', (time() - t0))"
      ],
      "execution_count": null,
      "outputs": [
        {
          "output_type": "stream",
          "text": [
            "Training for 100 epochs.\n",
            "Evaluating every 1 and saving model every 10 epochs.\n",
            "epoch 0\n",
            "[Train] - Lr=0.526882, Lc=0.023175 - total loss=0.561536\n",
            "[Train] - Acc=0.682796, Pur=0.682796, NMI=0.373571, ARI=0.341951\n",
            "Saved model to: results/tmp/DTC_model_0.h5\n"
          ],
          "name": "stdout"
        },
        {
          "output_type": "stream",
          "text": [
            "/usr/local/lib/python3.6/dist-packages/sklearn/utils/linear_assignment_.py:128: FutureWarning: The linear_assignment function is deprecated in 0.21 and will be removed from 0.23. Use scipy.optimize.linear_sum_assignment instead.\n",
            "  FutureWarning)\n"
          ],
          "name": "stderr"
        },
        {
          "output_type": "stream",
          "text": [
            "epoch 1\n",
            "[Train] - Lr=0.541488, Lc=0.027157 - total loss=0.582275\n",
            "[Train] - Acc=0.683871, Pur=0.683871, NMI=0.372542, ARI=0.343958\n"
          ],
          "name": "stdout"
        },
        {
          "output_type": "stream",
          "text": [
            "/usr/local/lib/python3.6/dist-packages/sklearn/utils/linear_assignment_.py:128: FutureWarning: The linear_assignment function is deprecated in 0.21 and will be removed from 0.23. Use scipy.optimize.linear_sum_assignment instead.\n",
            "  FutureWarning)\n"
          ],
          "name": "stderr"
        },
        {
          "output_type": "stream",
          "text": [
            "epoch 2\n",
            "[Train] - Lr=0.527733, Lc=0.028588 - total loss=0.570166\n",
            "[Train] - Acc=0.691398, Pur=0.691398, NMI=0.370939, ARI=0.349537\n"
          ],
          "name": "stdout"
        },
        {
          "output_type": "stream",
          "text": [
            "/usr/local/lib/python3.6/dist-packages/sklearn/utils/linear_assignment_.py:128: FutureWarning: The linear_assignment function is deprecated in 0.21 and will be removed from 0.23. Use scipy.optimize.linear_sum_assignment instead.\n",
            "  FutureWarning)\n"
          ],
          "name": "stderr"
        },
        {
          "output_type": "stream",
          "text": [
            "epoch 3\n",
            "[Train] - Lr=0.523473, Lc=0.029230 - total loss=0.566899\n",
            "[Train] - Acc=0.688172, Pur=0.688172, NMI=0.372651, ARI=0.345920\n"
          ],
          "name": "stdout"
        },
        {
          "output_type": "stream",
          "text": [
            "/usr/local/lib/python3.6/dist-packages/sklearn/utils/linear_assignment_.py:128: FutureWarning: The linear_assignment function is deprecated in 0.21 and will be removed from 0.23. Use scipy.optimize.linear_sum_assignment instead.\n",
            "  FutureWarning)\n"
          ],
          "name": "stderr"
        },
        {
          "output_type": "stream",
          "text": [
            "epoch 4\n",
            "[Train] - Lr=0.521791, Lc=0.031844 - total loss=0.568944\n",
            "[Train] - Acc=0.689247, Pur=0.689247, NMI=0.365049, ARI=0.344946\n"
          ],
          "name": "stdout"
        },
        {
          "output_type": "stream",
          "text": [
            "/usr/local/lib/python3.6/dist-packages/sklearn/utils/linear_assignment_.py:128: FutureWarning: The linear_assignment function is deprecated in 0.21 and will be removed from 0.23. Use scipy.optimize.linear_sum_assignment instead.\n",
            "  FutureWarning)\n"
          ],
          "name": "stderr"
        },
        {
          "output_type": "stream",
          "text": [
            "epoch 5\n",
            "[Train] - Lr=0.519296, Lc=0.033684 - total loss=0.569275\n",
            "[Train] - Acc=0.688172, Pur=0.688172, NMI=0.361423, ARI=0.343881\n"
          ],
          "name": "stdout"
        },
        {
          "output_type": "stream",
          "text": [
            "/usr/local/lib/python3.6/dist-packages/sklearn/utils/linear_assignment_.py:128: FutureWarning: The linear_assignment function is deprecated in 0.21 and will be removed from 0.23. Use scipy.optimize.linear_sum_assignment instead.\n",
            "  FutureWarning)\n"
          ],
          "name": "stderr"
        },
        {
          "output_type": "stream",
          "text": [
            "epoch 6\n",
            "[Train] - Lr=0.517696, Lc=0.035971 - total loss=0.571071\n",
            "[Train] - Acc=0.686022, Pur=0.686022, NMI=0.359153, ARI=0.342944\n"
          ],
          "name": "stdout"
        },
        {
          "output_type": "stream",
          "text": [
            "/usr/local/lib/python3.6/dist-packages/sklearn/utils/linear_assignment_.py:128: FutureWarning: The linear_assignment function is deprecated in 0.21 and will be removed from 0.23. Use scipy.optimize.linear_sum_assignment instead.\n",
            "  FutureWarning)\n"
          ],
          "name": "stderr"
        },
        {
          "output_type": "stream",
          "text": [
            "epoch 7\n",
            "[Train] - Lr=0.516027, Lc=0.038133 - total loss=0.572623\n",
            "[Train] - Acc=0.678495, Pur=0.678495, NMI=0.354434, ARI=0.337329\n"
          ],
          "name": "stdout"
        },
        {
          "output_type": "stream",
          "text": [
            "/usr/local/lib/python3.6/dist-packages/sklearn/utils/linear_assignment_.py:128: FutureWarning: The linear_assignment function is deprecated in 0.21 and will be removed from 0.23. Use scipy.optimize.linear_sum_assignment instead.\n",
            "  FutureWarning)\n"
          ],
          "name": "stderr"
        },
        {
          "output_type": "stream",
          "text": [
            "epoch 8\n",
            "[Train] - Lr=0.513270, Lc=0.040157 - total loss=0.572986\n",
            "[Train] - Acc=0.681720, Pur=0.681720, NMI=0.357293, ARI=0.341748\n"
          ],
          "name": "stdout"
        },
        {
          "output_type": "stream",
          "text": [
            "/usr/local/lib/python3.6/dist-packages/sklearn/utils/linear_assignment_.py:128: FutureWarning: The linear_assignment function is deprecated in 0.21 and will be removed from 0.23. Use scipy.optimize.linear_sum_assignment instead.\n",
            "  FutureWarning)\n"
          ],
          "name": "stderr"
        },
        {
          "output_type": "stream",
          "text": [
            "epoch 9\n",
            "[Train] - Lr=0.512087, Lc=0.042857 - total loss=0.575898\n",
            "[Train] - Acc=0.682796, Pur=0.682796, NMI=0.358738, ARI=0.344232\n"
          ],
          "name": "stdout"
        },
        {
          "output_type": "stream",
          "text": [
            "/usr/local/lib/python3.6/dist-packages/sklearn/utils/linear_assignment_.py:128: FutureWarning: The linear_assignment function is deprecated in 0.21 and will be removed from 0.23. Use scipy.optimize.linear_sum_assignment instead.\n",
            "  FutureWarning)\n"
          ],
          "name": "stderr"
        },
        {
          "output_type": "stream",
          "text": [
            "epoch 10\n",
            "[Train] - Lr=0.509341, Lc=0.044903 - total loss=0.751552\n",
            "[Train] - Acc=0.683871, Pur=0.683871, NMI=0.358743, ARI=0.346870\n",
            "Saved model to: results/tmp/DTC_model_10.h5\n"
          ],
          "name": "stdout"
        },
        {
          "output_type": "stream",
          "text": [
            "/usr/local/lib/python3.6/dist-packages/sklearn/utils/linear_assignment_.py:128: FutureWarning: The linear_assignment function is deprecated in 0.21 and will be removed from 0.23. Use scipy.optimize.linear_sum_assignment instead.\n",
            "  FutureWarning)\n"
          ],
          "name": "stderr"
        },
        {
          "output_type": "stream",
          "text": [
            "epoch 11\n",
            "[Train] - Lr=0.515378, Lc=0.047774 - total loss=0.757544\n",
            "[Train] - Acc=0.689247, Pur=0.689247, NMI=0.354409, ARI=0.347849\n"
          ],
          "name": "stdout"
        },
        {
          "output_type": "stream",
          "text": [
            "/usr/local/lib/python3.6/dist-packages/sklearn/utils/linear_assignment_.py:128: FutureWarning: The linear_assignment function is deprecated in 0.21 and will be removed from 0.23. Use scipy.optimize.linear_sum_assignment instead.\n",
            "  FutureWarning)\n"
          ],
          "name": "stderr"
        },
        {
          "output_type": "stream",
          "text": [
            "epoch 12\n",
            "[Train] - Lr=0.521038, Lc=0.050415 - total loss=0.762853\n",
            "[Train] - Acc=0.688172, Pur=0.688172, NMI=0.359731, ARI=0.350039\n"
          ],
          "name": "stdout"
        },
        {
          "output_type": "stream",
          "text": [
            "/usr/local/lib/python3.6/dist-packages/sklearn/utils/linear_assignment_.py:128: FutureWarning: The linear_assignment function is deprecated in 0.21 and will be removed from 0.23. Use scipy.optimize.linear_sum_assignment instead.\n",
            "  FutureWarning)\n"
          ],
          "name": "stderr"
        },
        {
          "output_type": "stream",
          "text": [
            "epoch 13\n",
            "[Train] - Lr=0.528097, Lc=0.053999 - total loss=0.773233\n",
            "[Train] - Acc=0.679570, Pur=0.679570, NMI=0.344872, ARI=0.338210\n"
          ],
          "name": "stdout"
        },
        {
          "output_type": "stream",
          "text": [
            "/usr/local/lib/python3.6/dist-packages/sklearn/utils/linear_assignment_.py:128: FutureWarning: The linear_assignment function is deprecated in 0.21 and will be removed from 0.23. Use scipy.optimize.linear_sum_assignment instead.\n",
            "  FutureWarning)\n"
          ],
          "name": "stderr"
        },
        {
          "output_type": "stream",
          "text": [
            "epoch 14\n",
            "[Train] - Lr=0.534744, Lc=0.056179 - total loss=0.770447\n",
            "[Train] - Acc=0.682796, Pur=0.682796, NMI=0.361461, ARI=0.352509\n"
          ],
          "name": "stdout"
        },
        {
          "output_type": "stream",
          "text": [
            "/usr/local/lib/python3.6/dist-packages/sklearn/utils/linear_assignment_.py:128: FutureWarning: The linear_assignment function is deprecated in 0.21 and will be removed from 0.23. Use scipy.optimize.linear_sum_assignment instead.\n",
            "  FutureWarning)\n"
          ],
          "name": "stderr"
        },
        {
          "output_type": "stream",
          "text": [
            "epoch 15\n",
            "[Train] - Lr=0.540370, Lc=0.059442 - total loss=0.775644\n",
            "[Train] - Acc=0.679570, Pur=0.679570, NMI=0.353908, ARI=0.346401\n"
          ],
          "name": "stdout"
        },
        {
          "output_type": "stream",
          "text": [
            "/usr/local/lib/python3.6/dist-packages/sklearn/utils/linear_assignment_.py:128: FutureWarning: The linear_assignment function is deprecated in 0.21 and will be removed from 0.23. Use scipy.optimize.linear_sum_assignment instead.\n",
            "  FutureWarning)\n"
          ],
          "name": "stderr"
        },
        {
          "output_type": "stream",
          "text": [
            "epoch 16\n",
            "[Train] - Lr=0.545771, Lc=0.063179 - total loss=0.784940\n",
            "[Train] - Acc=0.676344, Pur=0.676344, NMI=0.354338, ARI=0.346257\n"
          ],
          "name": "stdout"
        },
        {
          "output_type": "stream",
          "text": [
            "/usr/local/lib/python3.6/dist-packages/sklearn/utils/linear_assignment_.py:128: FutureWarning: The linear_assignment function is deprecated in 0.21 and will be removed from 0.23. Use scipy.optimize.linear_sum_assignment instead.\n",
            "  FutureWarning)\n"
          ],
          "name": "stderr"
        },
        {
          "output_type": "stream",
          "text": [
            "epoch 17\n",
            "[Train] - Lr=0.553140, Lc=0.065210 - total loss=0.781463\n",
            "[Train] - Acc=0.678495, Pur=0.678495, NMI=0.352742, ARI=0.345472\n"
          ],
          "name": "stdout"
        },
        {
          "output_type": "stream",
          "text": [
            "/usr/local/lib/python3.6/dist-packages/sklearn/utils/linear_assignment_.py:128: FutureWarning: The linear_assignment function is deprecated in 0.21 and will be removed from 0.23. Use scipy.optimize.linear_sum_assignment instead.\n",
            "  FutureWarning)\n"
          ],
          "name": "stderr"
        },
        {
          "output_type": "stream",
          "text": [
            "epoch 18\n",
            "[Train] - Lr=0.558955, Lc=0.066789 - total loss=0.779056\n",
            "[Train] - Acc=0.678495, Pur=0.678495, NMI=0.349320, ARI=0.343224\n"
          ],
          "name": "stdout"
        },
        {
          "output_type": "stream",
          "text": [
            "/usr/local/lib/python3.6/dist-packages/sklearn/utils/linear_assignment_.py:128: FutureWarning: The linear_assignment function is deprecated in 0.21 and will be removed from 0.23. Use scipy.optimize.linear_sum_assignment instead.\n",
            "  FutureWarning)\n"
          ],
          "name": "stderr"
        },
        {
          "output_type": "stream",
          "text": [
            "epoch 19\n",
            "[Train] - Lr=0.559541, Lc=0.069613 - total loss=0.784629\n",
            "[Train] - Acc=0.673118, Pur=0.673118, NMI=0.349745, ARI=0.341863\n"
          ],
          "name": "stdout"
        },
        {
          "output_type": "stream",
          "text": [
            "/usr/local/lib/python3.6/dist-packages/sklearn/utils/linear_assignment_.py:128: FutureWarning: The linear_assignment function is deprecated in 0.21 and will be removed from 0.23. Use scipy.optimize.linear_sum_assignment instead.\n",
            "  FutureWarning)\n"
          ],
          "name": "stderr"
        },
        {
          "output_type": "stream",
          "text": [
            "epoch 20\n",
            "[Train] - Lr=0.566988, Lc=0.071424 - total loss=0.783647\n",
            "[Train] - Acc=0.673118, Pur=0.673118, NMI=0.347704, ARI=0.340456\n",
            "Saved model to: results/tmp/DTC_model_20.h5\n"
          ],
          "name": "stdout"
        },
        {
          "output_type": "stream",
          "text": [
            "/usr/local/lib/python3.6/dist-packages/sklearn/utils/linear_assignment_.py:128: FutureWarning: The linear_assignment function is deprecated in 0.21 and will be removed from 0.23. Use scipy.optimize.linear_sum_assignment instead.\n",
            "  FutureWarning)\n"
          ],
          "name": "stderr"
        },
        {
          "output_type": "stream",
          "text": [
            "epoch 21\n",
            "[Train] - Lr=0.567352, Lc=0.073333 - total loss=0.786654\n",
            "[Train] - Acc=0.675269, Pur=0.675269, NMI=0.349635, ARI=0.342469\n"
          ],
          "name": "stdout"
        },
        {
          "output_type": "stream",
          "text": [
            "/usr/local/lib/python3.6/dist-packages/sklearn/utils/linear_assignment_.py:128: FutureWarning: The linear_assignment function is deprecated in 0.21 and will be removed from 0.23. Use scipy.optimize.linear_sum_assignment instead.\n",
            "  FutureWarning)\n"
          ],
          "name": "stderr"
        },
        {
          "output_type": "stream",
          "text": [
            "epoch 22\n",
            "[Train] - Lr=0.563114, Lc=0.074244 - total loss=0.784199\n",
            "[Train] - Acc=0.674194, Pur=0.674194, NMI=0.348675, ARI=0.341751\n"
          ],
          "name": "stdout"
        },
        {
          "output_type": "stream",
          "text": [
            "/usr/local/lib/python3.6/dist-packages/sklearn/utils/linear_assignment_.py:128: FutureWarning: The linear_assignment function is deprecated in 0.21 and will be removed from 0.23. Use scipy.optimize.linear_sum_assignment instead.\n",
            "  FutureWarning)\n"
          ],
          "name": "stderr"
        },
        {
          "output_type": "stream",
          "text": [
            "epoch 23\n",
            "[Train] - Lr=0.568599, Lc=0.075005 - total loss=0.780408\n",
            "[Train] - Acc=0.670968, Pur=0.670968, NMI=0.345663, ARI=0.338303\n"
          ],
          "name": "stdout"
        },
        {
          "output_type": "stream",
          "text": [
            "/usr/local/lib/python3.6/dist-packages/sklearn/utils/linear_assignment_.py:128: FutureWarning: The linear_assignment function is deprecated in 0.21 and will be removed from 0.23. Use scipy.optimize.linear_sum_assignment instead.\n",
            "  FutureWarning)\n"
          ],
          "name": "stderr"
        },
        {
          "output_type": "stream",
          "text": [
            "epoch 24\n",
            "[Train] - Lr=0.568624, Lc=0.075831 - total loss=0.776951\n",
            "[Train] - Acc=0.669892, Pur=0.669892, NMI=0.346299, ARI=0.338814\n"
          ],
          "name": "stdout"
        },
        {
          "output_type": "stream",
          "text": [
            "/usr/local/lib/python3.6/dist-packages/sklearn/utils/linear_assignment_.py:128: FutureWarning: The linear_assignment function is deprecated in 0.21 and will be removed from 0.23. Use scipy.optimize.linear_sum_assignment instead.\n",
            "  FutureWarning)\n"
          ],
          "name": "stderr"
        },
        {
          "output_type": "stream",
          "text": [
            "epoch 25\n",
            "[Train] - Lr=0.572145, Lc=0.077760 - total loss=0.780563\n",
            "[Train] - Acc=0.667742, Pur=0.667742, NMI=0.346930, ARI=0.339378\n"
          ],
          "name": "stdout"
        },
        {
          "output_type": "stream",
          "text": [
            "/usr/local/lib/python3.6/dist-packages/sklearn/utils/linear_assignment_.py:128: FutureWarning: The linear_assignment function is deprecated in 0.21 and will be removed from 0.23. Use scipy.optimize.linear_sum_assignment instead.\n",
            "  FutureWarning)\n"
          ],
          "name": "stderr"
        },
        {
          "output_type": "stream",
          "text": [
            "epoch 26\n",
            "[Train] - Lr=0.570442, Lc=0.079903 - total loss=0.792640\n",
            "[Train] - Acc=0.672043, Pur=0.672043, NMI=0.346777, ARI=0.341100\n"
          ],
          "name": "stdout"
        },
        {
          "output_type": "stream",
          "text": [
            "/usr/local/lib/python3.6/dist-packages/sklearn/utils/linear_assignment_.py:128: FutureWarning: The linear_assignment function is deprecated in 0.21 and will be removed from 0.23. Use scipy.optimize.linear_sum_assignment instead.\n",
            "  FutureWarning)\n"
          ],
          "name": "stderr"
        },
        {
          "output_type": "stream",
          "text": [
            "epoch 27\n",
            "[Train] - Lr=0.575973, Lc=0.078986 - total loss=0.782687\n",
            "[Train] - Acc=0.669892, Pur=0.669892, NMI=0.345323, ARI=0.340118\n"
          ],
          "name": "stdout"
        },
        {
          "output_type": "stream",
          "text": [
            "/usr/local/lib/python3.6/dist-packages/sklearn/utils/linear_assignment_.py:128: FutureWarning: The linear_assignment function is deprecated in 0.21 and will be removed from 0.23. Use scipy.optimize.linear_sum_assignment instead.\n",
            "  FutureWarning)\n"
          ],
          "name": "stderr"
        },
        {
          "output_type": "stream",
          "text": [
            "epoch 28\n",
            "[Train] - Lr=0.575554, Lc=0.082212 - total loss=0.798074\n",
            "[Train] - Acc=0.669892, Pur=0.669892, NMI=0.349764, ARI=0.343279\n"
          ],
          "name": "stdout"
        },
        {
          "output_type": "stream",
          "text": [
            "/usr/local/lib/python3.6/dist-packages/sklearn/utils/linear_assignment_.py:128: FutureWarning: The linear_assignment function is deprecated in 0.21 and will be removed from 0.23. Use scipy.optimize.linear_sum_assignment instead.\n",
            "  FutureWarning)\n"
          ],
          "name": "stderr"
        },
        {
          "output_type": "stream",
          "text": [
            "epoch 29\n",
            "[Train] - Lr=0.579500, Lc=0.081925 - total loss=0.785050\n",
            "[Train] - Acc=0.666667, Pur=0.666667, NMI=0.355370, ARI=0.347017\n"
          ],
          "name": "stdout"
        },
        {
          "output_type": "stream",
          "text": [
            "/usr/local/lib/python3.6/dist-packages/sklearn/utils/linear_assignment_.py:128: FutureWarning: The linear_assignment function is deprecated in 0.21 and will be removed from 0.23. Use scipy.optimize.linear_sum_assignment instead.\n",
            "  FutureWarning)\n"
          ],
          "name": "stderr"
        },
        {
          "output_type": "stream",
          "text": [
            "epoch 30\n",
            "[Train] - Lr=0.577044, Lc=0.082687 - total loss=0.786683\n",
            "[Train] - Acc=0.668817, Pur=0.668817, NMI=0.351556, ARI=0.345297\n",
            "Saved model to: results/tmp/DTC_model_30.h5\n"
          ],
          "name": "stdout"
        },
        {
          "output_type": "stream",
          "text": [
            "/usr/local/lib/python3.6/dist-packages/sklearn/utils/linear_assignment_.py:128: FutureWarning: The linear_assignment function is deprecated in 0.21 and will be removed from 0.23. Use scipy.optimize.linear_sum_assignment instead.\n",
            "  FutureWarning)\n"
          ],
          "name": "stderr"
        },
        {
          "output_type": "stream",
          "text": [
            "epoch 31\n",
            "[Train] - Lr=0.577256, Lc=0.084313 - total loss=0.792915\n",
            "[Train] - Acc=0.666667, Pur=0.666667, NMI=0.349613, ARI=0.342252\n"
          ],
          "name": "stdout"
        },
        {
          "output_type": "stream",
          "text": [
            "/usr/local/lib/python3.6/dist-packages/sklearn/utils/linear_assignment_.py:128: FutureWarning: The linear_assignment function is deprecated in 0.21 and will be removed from 0.23. Use scipy.optimize.linear_sum_assignment instead.\n",
            "  FutureWarning)\n"
          ],
          "name": "stderr"
        },
        {
          "output_type": "stream",
          "text": [
            "epoch 32\n",
            "[Train] - Lr=0.582563, Lc=0.084586 - total loss=0.790263\n",
            "[Train] - Acc=0.663441, Pur=0.663441, NMI=0.351039, ARI=0.343493\n"
          ],
          "name": "stdout"
        },
        {
          "output_type": "stream",
          "text": [
            "/usr/local/lib/python3.6/dist-packages/sklearn/utils/linear_assignment_.py:128: FutureWarning: The linear_assignment function is deprecated in 0.21 and will be removed from 0.23. Use scipy.optimize.linear_sum_assignment instead.\n",
            "  FutureWarning)\n"
          ],
          "name": "stderr"
        },
        {
          "output_type": "stream",
          "text": [
            "epoch 33\n",
            "[Train] - Lr=0.577362, Lc=0.085230 - total loss=0.791315\n",
            "[Train] - Acc=0.663441, Pur=0.663441, NMI=0.352021, ARI=0.344020\n"
          ],
          "name": "stdout"
        },
        {
          "output_type": "stream",
          "text": [
            "/usr/local/lib/python3.6/dist-packages/sklearn/utils/linear_assignment_.py:128: FutureWarning: The linear_assignment function is deprecated in 0.21 and will be removed from 0.23. Use scipy.optimize.linear_sum_assignment instead.\n",
            "  FutureWarning)\n"
          ],
          "name": "stderr"
        },
        {
          "output_type": "stream",
          "text": [
            "epoch 34\n",
            "[Train] - Lr=0.585052, Lc=0.086383 - total loss=0.795110\n",
            "[Train] - Acc=0.666667, Pur=0.666667, NMI=0.351215, ARI=0.345475\n"
          ],
          "name": "stdout"
        },
        {
          "output_type": "stream",
          "text": [
            "/usr/local/lib/python3.6/dist-packages/sklearn/utils/linear_assignment_.py:128: FutureWarning: The linear_assignment function is deprecated in 0.21 and will be removed from 0.23. Use scipy.optimize.linear_sum_assignment instead.\n",
            "  FutureWarning)\n"
          ],
          "name": "stderr"
        },
        {
          "output_type": "stream",
          "text": [
            "epoch 35\n",
            "[Train] - Lr=0.579291, Lc=0.086990 - total loss=0.795679\n",
            "[Train] - Acc=0.659140, Pur=0.659140, NMI=0.350822, ARI=0.342417\n"
          ],
          "name": "stdout"
        },
        {
          "output_type": "stream",
          "text": [
            "/usr/local/lib/python3.6/dist-packages/sklearn/utils/linear_assignment_.py:128: FutureWarning: The linear_assignment function is deprecated in 0.21 and will be removed from 0.23. Use scipy.optimize.linear_sum_assignment instead.\n",
            "  FutureWarning)\n"
          ],
          "name": "stderr"
        },
        {
          "output_type": "stream",
          "text": [
            "epoch 36\n",
            "[Train] - Lr=0.584650, Lc=0.088330 - total loss=0.799280\n",
            "[Train] - Acc=0.659140, Pur=0.659140, NMI=0.350307, ARI=0.342123\n"
          ],
          "name": "stdout"
        },
        {
          "output_type": "stream",
          "text": [
            "/usr/local/lib/python3.6/dist-packages/sklearn/utils/linear_assignment_.py:128: FutureWarning: The linear_assignment function is deprecated in 0.21 and will be removed from 0.23. Use scipy.optimize.linear_sum_assignment instead.\n",
            "  FutureWarning)\n"
          ],
          "name": "stderr"
        },
        {
          "output_type": "stream",
          "text": [
            "epoch 37\n",
            "[Train] - Lr=0.585112, Lc=0.088225 - total loss=0.794888\n",
            "[Train] - Acc=0.658065, Pur=0.658065, NMI=0.354571, ARI=0.345500\n"
          ],
          "name": "stdout"
        },
        {
          "output_type": "stream",
          "text": [
            "/usr/local/lib/python3.6/dist-packages/sklearn/utils/linear_assignment_.py:128: FutureWarning: The linear_assignment function is deprecated in 0.21 and will be removed from 0.23. Use scipy.optimize.linear_sum_assignment instead.\n",
            "  FutureWarning)\n"
          ],
          "name": "stderr"
        },
        {
          "output_type": "stream",
          "text": [
            "epoch 38\n",
            "[Train] - Lr=0.586459, Lc=0.089538 - total loss=0.800068\n",
            "[Train] - Acc=0.659140, Pur=0.659140, NMI=0.357718, ARI=0.348771\n"
          ],
          "name": "stdout"
        },
        {
          "output_type": "stream",
          "text": [
            "/usr/local/lib/python3.6/dist-packages/sklearn/utils/linear_assignment_.py:128: FutureWarning: The linear_assignment function is deprecated in 0.21 and will be removed from 0.23. Use scipy.optimize.linear_sum_assignment instead.\n",
            "  FutureWarning)\n"
          ],
          "name": "stderr"
        },
        {
          "output_type": "stream",
          "text": [
            "epoch 39\n",
            "[Train] - Lr=0.588109, Lc=0.089949 - total loss=0.798515\n",
            "[Train] - Acc=0.661290, Pur=0.661290, NMI=0.365516, ARI=0.354501\n"
          ],
          "name": "stdout"
        },
        {
          "output_type": "stream",
          "text": [
            "/usr/local/lib/python3.6/dist-packages/sklearn/utils/linear_assignment_.py:128: FutureWarning: The linear_assignment function is deprecated in 0.21 and will be removed from 0.23. Use scipy.optimize.linear_sum_assignment instead.\n",
            "  FutureWarning)\n"
          ],
          "name": "stderr"
        },
        {
          "output_type": "stream",
          "text": [
            "epoch 40\n",
            "[Train] - Lr=0.591272, Lc=0.089781 - total loss=0.795988\n",
            "[Train] - Acc=0.659140, Pur=0.659140, NMI=0.363262, ARI=0.353143\n",
            "Saved model to: results/tmp/DTC_model_40.h5\n"
          ],
          "name": "stdout"
        },
        {
          "output_type": "stream",
          "text": [
            "/usr/local/lib/python3.6/dist-packages/sklearn/utils/linear_assignment_.py:128: FutureWarning: The linear_assignment function is deprecated in 0.21 and will be removed from 0.23. Use scipy.optimize.linear_sum_assignment instead.\n",
            "  FutureWarning)\n"
          ],
          "name": "stderr"
        },
        {
          "output_type": "stream",
          "text": [
            "epoch 41\n",
            "[Train] - Lr=0.587589, Lc=0.091378 - total loss=0.803878\n",
            "[Train] - Acc=0.661290, Pur=0.661290, NMI=0.364739, ARI=0.354655\n"
          ],
          "name": "stdout"
        },
        {
          "output_type": "stream",
          "text": [
            "/usr/local/lib/python3.6/dist-packages/sklearn/utils/linear_assignment_.py:128: FutureWarning: The linear_assignment function is deprecated in 0.21 and will be removed from 0.23. Use scipy.optimize.linear_sum_assignment instead.\n",
            "  FutureWarning)\n"
          ],
          "name": "stderr"
        },
        {
          "output_type": "stream",
          "text": [
            "epoch 42\n",
            "[Train] - Lr=0.591902, Lc=0.091591 - total loss=0.801943\n",
            "[Train] - Acc=0.660215, Pur=0.660215, NMI=0.362023, ARI=0.351721\n"
          ],
          "name": "stdout"
        },
        {
          "output_type": "stream",
          "text": [
            "/usr/local/lib/python3.6/dist-packages/sklearn/utils/linear_assignment_.py:128: FutureWarning: The linear_assignment function is deprecated in 0.21 and will be removed from 0.23. Use scipy.optimize.linear_sum_assignment instead.\n",
            "  FutureWarning)\n"
          ],
          "name": "stderr"
        },
        {
          "output_type": "stream",
          "text": [
            "epoch 43\n",
            "[Train] - Lr=0.588256, Lc=0.092837 - total loss=0.810146\n",
            "[Train] - Acc=0.660215, Pur=0.660215, NMI=0.362581, ARI=0.351539\n"
          ],
          "name": "stdout"
        },
        {
          "output_type": "stream",
          "text": [
            "/usr/local/lib/python3.6/dist-packages/sklearn/utils/linear_assignment_.py:128: FutureWarning: The linear_assignment function is deprecated in 0.21 and will be removed from 0.23. Use scipy.optimize.linear_sum_assignment instead.\n",
            "  FutureWarning)\n"
          ],
          "name": "stderr"
        },
        {
          "output_type": "stream",
          "text": [
            "epoch 44\n",
            "[Train] - Lr=0.589608, Lc=0.092378 - total loss=0.805469\n",
            "[Train] - Acc=0.660215, Pur=0.660215, NMI=0.362581, ARI=0.351539\n",
            "Assignment changes 0.0 < 0.001 tolerance threshold. Patience: 1/5.\n"
          ],
          "name": "stdout"
        },
        {
          "output_type": "stream",
          "text": [
            "/usr/local/lib/python3.6/dist-packages/sklearn/utils/linear_assignment_.py:128: FutureWarning: The linear_assignment function is deprecated in 0.21 and will be removed from 0.23. Use scipy.optimize.linear_sum_assignment instead.\n",
            "  FutureWarning)\n"
          ],
          "name": "stderr"
        },
        {
          "output_type": "stream",
          "text": [
            "epoch 45\n",
            "[Train] - Lr=0.598794, Lc=0.094151 - total loss=0.813519\n",
            "[Train] - Acc=0.659140, Pur=0.659140, NMI=0.356298, ARI=0.347448\n"
          ],
          "name": "stdout"
        },
        {
          "output_type": "stream",
          "text": [
            "/usr/local/lib/python3.6/dist-packages/sklearn/utils/linear_assignment_.py:128: FutureWarning: The linear_assignment function is deprecated in 0.21 and will be removed from 0.23. Use scipy.optimize.linear_sum_assignment instead.\n",
            "  FutureWarning)\n"
          ],
          "name": "stderr"
        },
        {
          "output_type": "stream",
          "text": [
            "epoch 46\n",
            "[Train] - Lr=0.597650, Lc=0.094220 - total loss=0.811467\n",
            "[Train] - Acc=0.660215, Pur=0.660215, NMI=0.365133, ARI=0.353583\n"
          ],
          "name": "stdout"
        },
        {
          "output_type": "stream",
          "text": [
            "/usr/local/lib/python3.6/dist-packages/sklearn/utils/linear_assignment_.py:128: FutureWarning: The linear_assignment function is deprecated in 0.21 and will be removed from 0.23. Use scipy.optimize.linear_sum_assignment instead.\n",
            "  FutureWarning)\n"
          ],
          "name": "stderr"
        },
        {
          "output_type": "stream",
          "text": [
            "epoch 47\n",
            "[Train] - Lr=0.597319, Lc=0.094923 - total loss=0.812955\n",
            "[Train] - Acc=0.658065, Pur=0.658065, NMI=0.360718, ARI=0.350082\n"
          ],
          "name": "stdout"
        },
        {
          "output_type": "stream",
          "text": [
            "/usr/local/lib/python3.6/dist-packages/sklearn/utils/linear_assignment_.py:128: FutureWarning: The linear_assignment function is deprecated in 0.21 and will be removed from 0.23. Use scipy.optimize.linear_sum_assignment instead.\n",
            "  FutureWarning)\n"
          ],
          "name": "stderr"
        },
        {
          "output_type": "stream",
          "text": [
            "epoch 48\n",
            "[Train] - Lr=0.594103, Lc=0.095448 - total loss=0.813339\n",
            "[Train] - Acc=0.658065, Pur=0.658065, NMI=0.363839, ARI=0.351958\n"
          ],
          "name": "stdout"
        },
        {
          "output_type": "stream",
          "text": [
            "/usr/local/lib/python3.6/dist-packages/sklearn/utils/linear_assignment_.py:128: FutureWarning: The linear_assignment function is deprecated in 0.21 and will be removed from 0.23. Use scipy.optimize.linear_sum_assignment instead.\n",
            "  FutureWarning)\n"
          ],
          "name": "stderr"
        },
        {
          "output_type": "stream",
          "text": [
            "epoch 49\n",
            "[Train] - Lr=0.600643, Lc=0.095957 - total loss=0.813679\n",
            "[Train] - Acc=0.658065, Pur=0.658065, NMI=0.363919, ARI=0.351514\n"
          ],
          "name": "stdout"
        },
        {
          "output_type": "stream",
          "text": [
            "/usr/local/lib/python3.6/dist-packages/sklearn/utils/linear_assignment_.py:128: FutureWarning: The linear_assignment function is deprecated in 0.21 and will be removed from 0.23. Use scipy.optimize.linear_sum_assignment instead.\n",
            "  FutureWarning)\n"
          ],
          "name": "stderr"
        },
        {
          "output_type": "stream",
          "text": [
            "epoch 50\n",
            "[Train] - Lr=0.598800, Lc=0.096561 - total loss=0.815472\n",
            "[Train] - Acc=0.659140, Pur=0.659140, NMI=0.369190, ARI=0.355075\n",
            "Saved model to: results/tmp/DTC_model_50.h5\n"
          ],
          "name": "stdout"
        },
        {
          "output_type": "stream",
          "text": [
            "/usr/local/lib/python3.6/dist-packages/sklearn/utils/linear_assignment_.py:128: FutureWarning: The linear_assignment function is deprecated in 0.21 and will be removed from 0.23. Use scipy.optimize.linear_sum_assignment instead.\n",
            "  FutureWarning)\n"
          ],
          "name": "stderr"
        },
        {
          "output_type": "stream",
          "text": [
            "epoch 51\n",
            "[Train] - Lr=0.602296, Lc=0.097333 - total loss=0.818554\n",
            "[Train] - Acc=0.658065, Pur=0.658065, NMI=0.368838, ARI=0.354726\n"
          ],
          "name": "stdout"
        },
        {
          "output_type": "stream",
          "text": [
            "/usr/local/lib/python3.6/dist-packages/sklearn/utils/linear_assignment_.py:128: FutureWarning: The linear_assignment function is deprecated in 0.21 and will be removed from 0.23. Use scipy.optimize.linear_sum_assignment instead.\n",
            "  FutureWarning)\n"
          ],
          "name": "stderr"
        },
        {
          "output_type": "stream",
          "text": [
            "epoch 52\n",
            "[Train] - Lr=0.602462, Lc=0.097762 - total loss=0.818847\n",
            "[Train] - Acc=0.653763, Pur=0.653763, NMI=0.363244, ARI=0.348128\n"
          ],
          "name": "stdout"
        },
        {
          "output_type": "stream",
          "text": [
            "/usr/local/lib/python3.6/dist-packages/sklearn/utils/linear_assignment_.py:128: FutureWarning: The linear_assignment function is deprecated in 0.21 and will be removed from 0.23. Use scipy.optimize.linear_sum_assignment instead.\n",
            "  FutureWarning)\n"
          ],
          "name": "stderr"
        },
        {
          "output_type": "stream",
          "text": [
            "epoch 53\n",
            "[Train] - Lr=0.597126, Lc=0.098269 - total loss=0.819695\n",
            "[Train] - Acc=0.652688, Pur=0.652688, NMI=0.364388, ARI=0.349114\n"
          ],
          "name": "stdout"
        },
        {
          "output_type": "stream",
          "text": [
            "/usr/local/lib/python3.6/dist-packages/sklearn/utils/linear_assignment_.py:128: FutureWarning: The linear_assignment function is deprecated in 0.21 and will be removed from 0.23. Use scipy.optimize.linear_sum_assignment instead.\n",
            "  FutureWarning)\n"
          ],
          "name": "stderr"
        },
        {
          "output_type": "stream",
          "text": [
            "epoch 54\n",
            "[Train] - Lr=0.604983, Lc=0.099180 - total loss=0.826793\n",
            "[Train] - Acc=0.659140, Pur=0.659140, NMI=0.373890, ARI=0.359286\n"
          ],
          "name": "stdout"
        },
        {
          "output_type": "stream",
          "text": [
            "/usr/local/lib/python3.6/dist-packages/sklearn/utils/linear_assignment_.py:128: FutureWarning: The linear_assignment function is deprecated in 0.21 and will be removed from 0.23. Use scipy.optimize.linear_sum_assignment instead.\n",
            "  FutureWarning)\n"
          ],
          "name": "stderr"
        },
        {
          "output_type": "stream",
          "text": [
            "epoch 55\n",
            "[Train] - Lr=0.602760, Lc=0.099473 - total loss=0.826283\n",
            "[Train] - Acc=0.658065, Pur=0.658065, NMI=0.371452, ARI=0.356747\n"
          ],
          "name": "stdout"
        },
        {
          "output_type": "stream",
          "text": [
            "/usr/local/lib/python3.6/dist-packages/sklearn/utils/linear_assignment_.py:128: FutureWarning: The linear_assignment function is deprecated in 0.21 and will be removed from 0.23. Use scipy.optimize.linear_sum_assignment instead.\n",
            "  FutureWarning)\n"
          ],
          "name": "stderr"
        },
        {
          "output_type": "stream",
          "text": [
            "epoch 56\n",
            "[Train] - Lr=0.605216, Lc=0.099108 - total loss=0.822035\n",
            "[Train] - Acc=0.654839, Pur=0.654839, NMI=0.366701, ARI=0.352452\n"
          ],
          "name": "stdout"
        },
        {
          "output_type": "stream",
          "text": [
            "/usr/local/lib/python3.6/dist-packages/sklearn/utils/linear_assignment_.py:128: FutureWarning: The linear_assignment function is deprecated in 0.21 and will be removed from 0.23. Use scipy.optimize.linear_sum_assignment instead.\n",
            "  FutureWarning)\n"
          ],
          "name": "stderr"
        },
        {
          "output_type": "stream",
          "text": [
            "epoch 57\n",
            "[Train] - Lr=0.605435, Lc=0.100393 - total loss=0.830247\n",
            "[Train] - Acc=0.655914, Pur=0.655914, NMI=0.370204, ARI=0.355180\n"
          ],
          "name": "stdout"
        },
        {
          "output_type": "stream",
          "text": [
            "/usr/local/lib/python3.6/dist-packages/sklearn/utils/linear_assignment_.py:128: FutureWarning: The linear_assignment function is deprecated in 0.21 and will be removed from 0.23. Use scipy.optimize.linear_sum_assignment instead.\n",
            "  FutureWarning)\n"
          ],
          "name": "stderr"
        },
        {
          "output_type": "stream",
          "text": [
            "epoch 58\n",
            "[Train] - Lr=0.610265, Lc=0.101330 - total loss=0.834093\n",
            "[Train] - Acc=0.654839, Pur=0.654839, NMI=0.368758, ARI=0.354119\n"
          ],
          "name": "stdout"
        },
        {
          "output_type": "stream",
          "text": [
            "/usr/local/lib/python3.6/dist-packages/sklearn/utils/linear_assignment_.py:128: FutureWarning: The linear_assignment function is deprecated in 0.21 and will be removed from 0.23. Use scipy.optimize.linear_sum_assignment instead.\n",
            "  FutureWarning)\n"
          ],
          "name": "stderr"
        },
        {
          "output_type": "stream",
          "text": [
            "epoch 59\n",
            "[Train] - Lr=0.611758, Lc=0.100938 - total loss=0.831281\n",
            "[Train] - Acc=0.652688, Pur=0.652688, NMI=0.367547, ARI=0.352596\n"
          ],
          "name": "stdout"
        },
        {
          "output_type": "stream",
          "text": [
            "/usr/local/lib/python3.6/dist-packages/sklearn/utils/linear_assignment_.py:128: FutureWarning: The linear_assignment function is deprecated in 0.21 and will be removed from 0.23. Use scipy.optimize.linear_sum_assignment instead.\n",
            "  FutureWarning)\n"
          ],
          "name": "stderr"
        },
        {
          "output_type": "stream",
          "text": [
            "epoch 60\n",
            "[Train] - Lr=0.614850, Lc=0.102124 - total loss=0.840654\n",
            "[Train] - Acc=0.656989, Pur=0.656989, NMI=0.373264, ARI=0.359201\n",
            "Saved model to: results/tmp/DTC_model_60.h5\n"
          ],
          "name": "stdout"
        },
        {
          "output_type": "stream",
          "text": [
            "/usr/local/lib/python3.6/dist-packages/sklearn/utils/linear_assignment_.py:128: FutureWarning: The linear_assignment function is deprecated in 0.21 and will be removed from 0.23. Use scipy.optimize.linear_sum_assignment instead.\n",
            "  FutureWarning)\n"
          ],
          "name": "stderr"
        },
        {
          "output_type": "stream",
          "text": [
            "epoch 61\n",
            "[Train] - Lr=0.613011, Lc=0.101767 - total loss=0.835536\n",
            "[Train] - Acc=0.655914, Pur=0.655914, NMI=0.372343, ARI=0.357954\n"
          ],
          "name": "stdout"
        },
        {
          "output_type": "stream",
          "text": [
            "/usr/local/lib/python3.6/dist-packages/sklearn/utils/linear_assignment_.py:128: FutureWarning: The linear_assignment function is deprecated in 0.21 and will be removed from 0.23. Use scipy.optimize.linear_sum_assignment instead.\n",
            "  FutureWarning)\n"
          ],
          "name": "stderr"
        },
        {
          "output_type": "stream",
          "text": [
            "epoch 62\n",
            "[Train] - Lr=0.614451, Lc=0.101760 - total loss=0.832821\n",
            "[Train] - Acc=0.654839, Pur=0.654839, NMI=0.372562, ARI=0.356612\n"
          ],
          "name": "stdout"
        },
        {
          "output_type": "stream",
          "text": [
            "/usr/local/lib/python3.6/dist-packages/sklearn/utils/linear_assignment_.py:128: FutureWarning: The linear_assignment function is deprecated in 0.21 and will be removed from 0.23. Use scipy.optimize.linear_sum_assignment instead.\n",
            "  FutureWarning)\n"
          ],
          "name": "stderr"
        },
        {
          "output_type": "stream",
          "text": [
            "epoch 63\n",
            "[Train] - Lr=0.613833, Lc=0.102730 - total loss=0.839153\n",
            "[Train] - Acc=0.653763, Pur=0.653763, NMI=0.371671, ARI=0.355387\n"
          ],
          "name": "stdout"
        },
        {
          "output_type": "stream",
          "text": [
            "/usr/local/lib/python3.6/dist-packages/sklearn/utils/linear_assignment_.py:128: FutureWarning: The linear_assignment function is deprecated in 0.21 and will be removed from 0.23. Use scipy.optimize.linear_sum_assignment instead.\n",
            "  FutureWarning)\n"
          ],
          "name": "stderr"
        },
        {
          "output_type": "stream",
          "text": [
            "epoch 64\n",
            "[Train] - Lr=0.613473, Lc=0.102746 - total loss=0.835313\n",
            "[Train] - Acc=0.652688, Pur=0.652688, NMI=0.370792, ARI=0.354174\n"
          ],
          "name": "stdout"
        },
        {
          "output_type": "stream",
          "text": [
            "/usr/local/lib/python3.6/dist-packages/sklearn/utils/linear_assignment_.py:128: FutureWarning: The linear_assignment function is deprecated in 0.21 and will be removed from 0.23. Use scipy.optimize.linear_sum_assignment instead.\n",
            "  FutureWarning)\n"
          ],
          "name": "stderr"
        },
        {
          "output_type": "stream",
          "text": [
            "epoch 65\n",
            "[Train] - Lr=0.615030, Lc=0.102984 - total loss=0.835907\n",
            "[Train] - Acc=0.650538, Pur=0.650538, NMI=0.368094, ARI=0.351917\n"
          ],
          "name": "stdout"
        },
        {
          "output_type": "stream",
          "text": [
            "/usr/local/lib/python3.6/dist-packages/sklearn/utils/linear_assignment_.py:128: FutureWarning: The linear_assignment function is deprecated in 0.21 and will be removed from 0.23. Use scipy.optimize.linear_sum_assignment instead.\n",
            "  FutureWarning)\n"
          ],
          "name": "stderr"
        },
        {
          "output_type": "stream",
          "text": [
            "epoch 66\n",
            "[Train] - Lr=0.618040, Lc=0.103757 - total loss=0.838753\n",
            "[Train] - Acc=0.651613, Pur=0.651613, NMI=0.369945, ARI=0.353518\n"
          ],
          "name": "stdout"
        },
        {
          "output_type": "stream",
          "text": [
            "/usr/local/lib/python3.6/dist-packages/sklearn/utils/linear_assignment_.py:128: FutureWarning: The linear_assignment function is deprecated in 0.21 and will be removed from 0.23. Use scipy.optimize.linear_sum_assignment instead.\n",
            "  FutureWarning)\n"
          ],
          "name": "stderr"
        },
        {
          "output_type": "stream",
          "text": [
            "epoch 67\n",
            "[Train] - Lr=0.619333, Lc=0.103557 - total loss=0.837806\n",
            "[Train] - Acc=0.649462, Pur=0.649462, NMI=0.369293, ARI=0.352099\n"
          ],
          "name": "stdout"
        },
        {
          "output_type": "stream",
          "text": [
            "/usr/local/lib/python3.6/dist-packages/sklearn/utils/linear_assignment_.py:128: FutureWarning: The linear_assignment function is deprecated in 0.21 and will be removed from 0.23. Use scipy.optimize.linear_sum_assignment instead.\n",
            "  FutureWarning)\n"
          ],
          "name": "stderr"
        },
        {
          "output_type": "stream",
          "text": [
            "epoch 68\n",
            "[Train] - Lr=0.619327, Lc=0.104009 - total loss=0.840830\n",
            "[Train] - Acc=0.649462, Pur=0.649462, NMI=0.369293, ARI=0.352099\n",
            "Assignment changes 0.0 < 0.001 tolerance threshold. Patience: 1/5.\n"
          ],
          "name": "stdout"
        },
        {
          "output_type": "stream",
          "text": [
            "/usr/local/lib/python3.6/dist-packages/sklearn/utils/linear_assignment_.py:128: FutureWarning: The linear_assignment function is deprecated in 0.21 and will be removed from 0.23. Use scipy.optimize.linear_sum_assignment instead.\n",
            "  FutureWarning)\n"
          ],
          "name": "stderr"
        },
        {
          "output_type": "stream",
          "text": [
            "epoch 69\n",
            "[Train] - Lr=0.623204, Lc=0.104968 - total loss=0.846565\n",
            "[Train] - Acc=0.650538, Pur=0.650538, NMI=0.369121, ARI=0.352872\n"
          ],
          "name": "stdout"
        },
        {
          "output_type": "stream",
          "text": [
            "/usr/local/lib/python3.6/dist-packages/sklearn/utils/linear_assignment_.py:128: FutureWarning: The linear_assignment function is deprecated in 0.21 and will be removed from 0.23. Use scipy.optimize.linear_sum_assignment instead.\n",
            "  FutureWarning)\n"
          ],
          "name": "stderr"
        },
        {
          "output_type": "stream",
          "text": [
            "epoch 70\n",
            "[Train] - Lr=0.623491, Lc=0.104551 - total loss=0.842336\n",
            "[Train] - Acc=0.649462, Pur=0.649462, NMI=0.368770, ARI=0.351714\n",
            "Saved model to: results/tmp/DTC_model_70.h5\n"
          ],
          "name": "stdout"
        },
        {
          "output_type": "stream",
          "text": [
            "/usr/local/lib/python3.6/dist-packages/sklearn/utils/linear_assignment_.py:128: FutureWarning: The linear_assignment function is deprecated in 0.21 and will be removed from 0.23. Use scipy.optimize.linear_sum_assignment instead.\n",
            "  FutureWarning)\n"
          ],
          "name": "stderr"
        },
        {
          "output_type": "stream",
          "text": [
            "epoch 71\n",
            "[Train] - Lr=0.623851, Lc=0.105062 - total loss=0.842036\n",
            "[Train] - Acc=0.650538, Pur=0.650538, NMI=0.373479, ARI=0.354505\n"
          ],
          "name": "stdout"
        },
        {
          "output_type": "stream",
          "text": [
            "/usr/local/lib/python3.6/dist-packages/sklearn/utils/linear_assignment_.py:128: FutureWarning: The linear_assignment function is deprecated in 0.21 and will be removed from 0.23. Use scipy.optimize.linear_sum_assignment instead.\n",
            "  FutureWarning)\n"
          ],
          "name": "stderr"
        },
        {
          "output_type": "stream",
          "text": [
            "epoch 72\n",
            "[Train] - Lr=0.623531, Lc=0.105392 - total loss=0.843601\n",
            "[Train] - Acc=0.650538, Pur=0.650538, NMI=0.373479, ARI=0.354505\n",
            "Assignment changes 0.0 < 0.001 tolerance threshold. Patience: 1/5.\n"
          ],
          "name": "stdout"
        },
        {
          "output_type": "stream",
          "text": [
            "/usr/local/lib/python3.6/dist-packages/sklearn/utils/linear_assignment_.py:128: FutureWarning: The linear_assignment function is deprecated in 0.21 and will be removed from 0.23. Use scipy.optimize.linear_sum_assignment instead.\n",
            "  FutureWarning)\n"
          ],
          "name": "stderr"
        },
        {
          "output_type": "stream",
          "text": [
            "epoch 73\n",
            "[Train] - Lr=0.620778, Lc=0.105212 - total loss=0.842599\n",
            "[Train] - Acc=0.646237, Pur=0.646237, NMI=0.371786, ARI=0.352608\n"
          ],
          "name": "stdout"
        },
        {
          "output_type": "stream",
          "text": [
            "/usr/local/lib/python3.6/dist-packages/sklearn/utils/linear_assignment_.py:128: FutureWarning: The linear_assignment function is deprecated in 0.21 and will be removed from 0.23. Use scipy.optimize.linear_sum_assignment instead.\n",
            "  FutureWarning)\n"
          ],
          "name": "stderr"
        },
        {
          "output_type": "stream",
          "text": [
            "epoch 74\n",
            "[Train] - Lr=0.624091, Lc=0.105170 - total loss=0.842100\n",
            "[Train] - Acc=0.646237, Pur=0.646237, NMI=0.367761, ARI=0.349160\n"
          ],
          "name": "stdout"
        },
        {
          "output_type": "stream",
          "text": [
            "/usr/local/lib/python3.6/dist-packages/sklearn/utils/linear_assignment_.py:128: FutureWarning: The linear_assignment function is deprecated in 0.21 and will be removed from 0.23. Use scipy.optimize.linear_sum_assignment instead.\n",
            "  FutureWarning)\n"
          ],
          "name": "stderr"
        },
        {
          "output_type": "stream",
          "text": [
            "epoch 75\n",
            "[Train] - Lr=0.624121, Lc=0.105152 - total loss=0.842969\n",
            "[Train] - Acc=0.647312, Pur=0.647312, NMI=0.373001, ARI=0.351947\n"
          ],
          "name": "stdout"
        },
        {
          "output_type": "stream",
          "text": [
            "/usr/local/lib/python3.6/dist-packages/sklearn/utils/linear_assignment_.py:128: FutureWarning: The linear_assignment function is deprecated in 0.21 and will be removed from 0.23. Use scipy.optimize.linear_sum_assignment instead.\n",
            "  FutureWarning)\n"
          ],
          "name": "stderr"
        },
        {
          "output_type": "stream",
          "text": [
            "epoch 76\n",
            "[Train] - Lr=0.621036, Lc=0.105343 - total loss=0.845342\n",
            "[Train] - Acc=0.646237, Pur=0.646237, NMI=0.373354, ARI=0.352748\n"
          ],
          "name": "stdout"
        },
        {
          "output_type": "stream",
          "text": [
            "/usr/local/lib/python3.6/dist-packages/sklearn/utils/linear_assignment_.py:128: FutureWarning: The linear_assignment function is deprecated in 0.21 and will be removed from 0.23. Use scipy.optimize.linear_sum_assignment instead.\n",
            "  FutureWarning)\n"
          ],
          "name": "stderr"
        },
        {
          "output_type": "stream",
          "text": [
            "epoch 77\n",
            "[Train] - Lr=0.624300, Lc=0.105636 - total loss=0.843140\n",
            "[Train] - Acc=0.646237, Pur=0.646237, NMI=0.372736, ARI=0.351735\n"
          ],
          "name": "stdout"
        },
        {
          "output_type": "stream",
          "text": [
            "/usr/local/lib/python3.6/dist-packages/sklearn/utils/linear_assignment_.py:128: FutureWarning: The linear_assignment function is deprecated in 0.21 and will be removed from 0.23. Use scipy.optimize.linear_sum_assignment instead.\n",
            "  FutureWarning)\n"
          ],
          "name": "stderr"
        },
        {
          "output_type": "stream",
          "text": [
            "epoch 78\n",
            "[Train] - Lr=0.624853, Lc=0.106017 - total loss=0.847206\n",
            "[Train] - Acc=0.647312, Pur=0.647312, NMI=0.373613, ARI=0.352952\n"
          ],
          "name": "stdout"
        },
        {
          "output_type": "stream",
          "text": [
            "/usr/local/lib/python3.6/dist-packages/sklearn/utils/linear_assignment_.py:128: FutureWarning: The linear_assignment function is deprecated in 0.21 and will be removed from 0.23. Use scipy.optimize.linear_sum_assignment instead.\n",
            "  FutureWarning)\n"
          ],
          "name": "stderr"
        },
        {
          "output_type": "stream",
          "text": [
            "epoch 79\n",
            "[Train] - Lr=0.631868, Lc=0.105881 - total loss=0.842910\n",
            "[Train] - Acc=0.647312, Pur=0.647312, NMI=0.373001, ARI=0.351947\n"
          ],
          "name": "stdout"
        },
        {
          "output_type": "stream",
          "text": [
            "/usr/local/lib/python3.6/dist-packages/sklearn/utils/linear_assignment_.py:128: FutureWarning: The linear_assignment function is deprecated in 0.21 and will be removed from 0.23. Use scipy.optimize.linear_sum_assignment instead.\n",
            "  FutureWarning)\n"
          ],
          "name": "stderr"
        },
        {
          "output_type": "stream",
          "text": [
            "epoch 80\n",
            "[Train] - Lr=0.626345, Lc=0.105650 - total loss=0.842923\n",
            "[Train] - Acc=0.640860, Pur=0.640860, NMI=0.369104, ARI=0.346813\n",
            "Saved model to: results/tmp/DTC_model_80.h5\n"
          ],
          "name": "stdout"
        },
        {
          "output_type": "stream",
          "text": [
            "/usr/local/lib/python3.6/dist-packages/sklearn/utils/linear_assignment_.py:128: FutureWarning: The linear_assignment function is deprecated in 0.21 and will be removed from 0.23. Use scipy.optimize.linear_sum_assignment instead.\n",
            "  FutureWarning)\n"
          ],
          "name": "stderr"
        },
        {
          "output_type": "stream",
          "text": [
            "epoch 81\n",
            "[Train] - Lr=0.626491, Lc=0.105899 - total loss=0.845492\n",
            "[Train] - Acc=0.644086, Pur=0.644086, NMI=0.372229, ARI=0.351349\n"
          ],
          "name": "stdout"
        },
        {
          "output_type": "stream",
          "text": [
            "/usr/local/lib/python3.6/dist-packages/sklearn/utils/linear_assignment_.py:128: FutureWarning: The linear_assignment function is deprecated in 0.21 and will be removed from 0.23. Use scipy.optimize.linear_sum_assignment instead.\n",
            "  FutureWarning)\n"
          ],
          "name": "stderr"
        },
        {
          "output_type": "stream",
          "text": [
            "epoch 82\n",
            "[Train] - Lr=0.629289, Lc=0.105868 - total loss=0.844488\n",
            "[Train] - Acc=0.644086, Pur=0.644086, NMI=0.374240, ARI=0.353091\n"
          ],
          "name": "stdout"
        },
        {
          "output_type": "stream",
          "text": [
            "/usr/local/lib/python3.6/dist-packages/sklearn/utils/linear_assignment_.py:128: FutureWarning: The linear_assignment function is deprecated in 0.21 and will be removed from 0.23. Use scipy.optimize.linear_sum_assignment instead.\n",
            "  FutureWarning)\n"
          ],
          "name": "stderr"
        },
        {
          "output_type": "stream",
          "text": [
            "epoch 83\n",
            "[Train] - Lr=0.633645, Lc=0.106385 - total loss=0.845758\n",
            "[Train] - Acc=0.645161, Pur=0.645161, NMI=0.374485, ARI=0.353273\n"
          ],
          "name": "stdout"
        },
        {
          "output_type": "stream",
          "text": [
            "/usr/local/lib/python3.6/dist-packages/sklearn/utils/linear_assignment_.py:128: FutureWarning: The linear_assignment function is deprecated in 0.21 and will be removed from 0.23. Use scipy.optimize.linear_sum_assignment instead.\n",
            "  FutureWarning)\n"
          ],
          "name": "stderr"
        },
        {
          "output_type": "stream",
          "text": [
            "epoch 84\n",
            "[Train] - Lr=0.628939, Lc=0.106581 - total loss=0.851196\n",
            "[Train] - Acc=0.645161, Pur=0.645161, NMI=0.374485, ARI=0.353273\n",
            "Assignment changes 0.0 < 0.001 tolerance threshold. Patience: 1/5.\n"
          ],
          "name": "stdout"
        },
        {
          "output_type": "stream",
          "text": [
            "/usr/local/lib/python3.6/dist-packages/sklearn/utils/linear_assignment_.py:128: FutureWarning: The linear_assignment function is deprecated in 0.21 and will be removed from 0.23. Use scipy.optimize.linear_sum_assignment instead.\n",
            "  FutureWarning)\n"
          ],
          "name": "stderr"
        },
        {
          "output_type": "stream",
          "text": [
            "epoch 85\n",
            "[Train] - Lr=0.632348, Lc=0.106348 - total loss=0.843697\n",
            "[Train] - Acc=0.644086, Pur=0.644086, NMI=0.372229, ARI=0.351349\n"
          ],
          "name": "stdout"
        },
        {
          "output_type": "stream",
          "text": [
            "/usr/local/lib/python3.6/dist-packages/sklearn/utils/linear_assignment_.py:128: FutureWarning: The linear_assignment function is deprecated in 0.21 and will be removed from 0.23. Use scipy.optimize.linear_sum_assignment instead.\n",
            "  FutureWarning)\n"
          ],
          "name": "stderr"
        },
        {
          "output_type": "stream",
          "text": [
            "epoch 86\n",
            "[Train] - Lr=0.631099, Lc=0.106104 - total loss=0.843760\n",
            "[Train] - Acc=0.644086, Pur=0.644086, NMI=0.370256, ARI=0.349619\n"
          ],
          "name": "stdout"
        },
        {
          "output_type": "stream",
          "text": [
            "/usr/local/lib/python3.6/dist-packages/sklearn/utils/linear_assignment_.py:128: FutureWarning: The linear_assignment function is deprecated in 0.21 and will be removed from 0.23. Use scipy.optimize.linear_sum_assignment instead.\n",
            "  FutureWarning)\n"
          ],
          "name": "stderr"
        },
        {
          "output_type": "stream",
          "text": [
            "epoch 87\n",
            "[Train] - Lr=0.626793, Lc=0.105887 - total loss=0.843653\n",
            "[Train] - Acc=0.640860, Pur=0.640860, NMI=0.369536, ARI=0.349115\n"
          ],
          "name": "stdout"
        },
        {
          "output_type": "stream",
          "text": [
            "/usr/local/lib/python3.6/dist-packages/sklearn/utils/linear_assignment_.py:128: FutureWarning: The linear_assignment function is deprecated in 0.21 and will be removed from 0.23. Use scipy.optimize.linear_sum_assignment instead.\n",
            "  FutureWarning)\n"
          ],
          "name": "stderr"
        },
        {
          "output_type": "stream",
          "text": [
            "epoch 88\n",
            "[Train] - Lr=0.631083, Lc=0.105791 - total loss=0.840740\n",
            "[Train] - Acc=0.640860, Pur=0.640860, NMI=0.375342, ARI=0.350727\n"
          ],
          "name": "stdout"
        },
        {
          "output_type": "stream",
          "text": [
            "/usr/local/lib/python3.6/dist-packages/sklearn/utils/linear_assignment_.py:128: FutureWarning: The linear_assignment function is deprecated in 0.21 and will be removed from 0.23. Use scipy.optimize.linear_sum_assignment instead.\n",
            "  FutureWarning)\n"
          ],
          "name": "stderr"
        },
        {
          "output_type": "stream",
          "text": [
            "epoch 89\n",
            "[Train] - Lr=0.630513, Lc=0.106448 - total loss=0.845153\n",
            "[Train] - Acc=0.643011, Pur=0.643011, NMI=0.370009, ARI=0.349439\n"
          ],
          "name": "stdout"
        },
        {
          "output_type": "stream",
          "text": [
            "/usr/local/lib/python3.6/dist-packages/sklearn/utils/linear_assignment_.py:128: FutureWarning: The linear_assignment function is deprecated in 0.21 and will be removed from 0.23. Use scipy.optimize.linear_sum_assignment instead.\n",
            "  FutureWarning)\n"
          ],
          "name": "stderr"
        },
        {
          "output_type": "stream",
          "text": [
            "epoch 90\n",
            "[Train] - Lr=0.637756, Lc=0.106815 - total loss=0.845145\n",
            "[Train] - Acc=0.644086, Pur=0.644086, NMI=0.372229, ARI=0.351349\n",
            "Saved model to: results/tmp/DTC_model_90.h5\n"
          ],
          "name": "stdout"
        },
        {
          "output_type": "stream",
          "text": [
            "/usr/local/lib/python3.6/dist-packages/sklearn/utils/linear_assignment_.py:128: FutureWarning: The linear_assignment function is deprecated in 0.21 and will be removed from 0.23. Use scipy.optimize.linear_sum_assignment instead.\n",
            "  FutureWarning)\n"
          ],
          "name": "stderr"
        },
        {
          "output_type": "stream",
          "text": [
            "epoch 91\n",
            "[Train] - Lr=0.627454, Lc=0.105412 - total loss=0.840211\n",
            "[Train] - Acc=0.637634, Pur=0.637634, NMI=0.369530, ARI=0.344716\n"
          ],
          "name": "stdout"
        },
        {
          "output_type": "stream",
          "text": [
            "/usr/local/lib/python3.6/dist-packages/sklearn/utils/linear_assignment_.py:128: FutureWarning: The linear_assignment function is deprecated in 0.21 and will be removed from 0.23. Use scipy.optimize.linear_sum_assignment instead.\n",
            "  FutureWarning)\n"
          ],
          "name": "stderr"
        },
        {
          "output_type": "stream",
          "text": [
            "epoch 92\n",
            "[Train] - Lr=0.630385, Lc=0.106241 - total loss=0.847804\n",
            "[Train] - Acc=0.643011, Pur=0.643011, NMI=0.372620, ARI=0.352211\n"
          ],
          "name": "stdout"
        },
        {
          "output_type": "stream",
          "text": [
            "/usr/local/lib/python3.6/dist-packages/sklearn/utils/linear_assignment_.py:128: FutureWarning: The linear_assignment function is deprecated in 0.21 and will be removed from 0.23. Use scipy.optimize.linear_sum_assignment instead.\n",
            "  FutureWarning)\n"
          ],
          "name": "stderr"
        },
        {
          "output_type": "stream",
          "text": [
            "epoch 93\n",
            "[Train] - Lr=0.638995, Lc=0.106509 - total loss=0.845612\n",
            "[Train] - Acc=0.644086, Pur=0.644086, NMI=0.372857, ARI=0.352377\n"
          ],
          "name": "stdout"
        },
        {
          "output_type": "stream",
          "text": [
            "/usr/local/lib/python3.6/dist-packages/sklearn/utils/linear_assignment_.py:128: FutureWarning: The linear_assignment function is deprecated in 0.21 and will be removed from 0.23. Use scipy.optimize.linear_sum_assignment instead.\n",
            "  FutureWarning)\n"
          ],
          "name": "stderr"
        },
        {
          "output_type": "stream",
          "text": [
            "epoch 94\n",
            "[Train] - Lr=0.632327, Lc=0.106715 - total loss=0.848825\n",
            "[Train] - Acc=0.644086, Pur=0.644086, NMI=0.372857, ARI=0.352377\n",
            "Assignment changes 0.0 < 0.001 tolerance threshold. Patience: 1/5.\n"
          ],
          "name": "stdout"
        },
        {
          "output_type": "stream",
          "text": [
            "/usr/local/lib/python3.6/dist-packages/sklearn/utils/linear_assignment_.py:128: FutureWarning: The linear_assignment function is deprecated in 0.21 and will be removed from 0.23. Use scipy.optimize.linear_sum_assignment instead.\n",
            "  FutureWarning)\n"
          ],
          "name": "stderr"
        },
        {
          "output_type": "stream",
          "text": [
            "epoch 95\n",
            "[Train] - Lr=0.635866, Lc=0.107056 - total loss=0.847675\n",
            "[Train] - Acc=0.644086, Pur=0.644086, NMI=0.372857, ARI=0.352377\n",
            "Assignment changes 0.0 < 0.001 tolerance threshold. Patience: 2/5.\n"
          ],
          "name": "stdout"
        },
        {
          "output_type": "stream",
          "text": [
            "/usr/local/lib/python3.6/dist-packages/sklearn/utils/linear_assignment_.py:128: FutureWarning: The linear_assignment function is deprecated in 0.21 and will be removed from 0.23. Use scipy.optimize.linear_sum_assignment instead.\n",
            "  FutureWarning)\n"
          ],
          "name": "stderr"
        },
        {
          "output_type": "stream",
          "text": [
            "epoch 96\n",
            "[Train] - Lr=0.638613, Lc=0.107025 - total loss=0.846186\n",
            "[Train] - Acc=0.643011, Pur=0.643011, NMI=0.371986, ARI=0.351174\n"
          ],
          "name": "stdout"
        },
        {
          "output_type": "stream",
          "text": [
            "/usr/local/lib/python3.6/dist-packages/sklearn/utils/linear_assignment_.py:128: FutureWarning: The linear_assignment function is deprecated in 0.21 and will be removed from 0.23. Use scipy.optimize.linear_sum_assignment instead.\n",
            "  FutureWarning)\n"
          ],
          "name": "stderr"
        },
        {
          "output_type": "stream",
          "text": [
            "epoch 97\n",
            "[Train] - Lr=0.643157, Lc=0.107172 - total loss=0.847019\n",
            "[Train] - Acc=0.646237, Pur=0.646237, NMI=0.375356, ARI=0.354477\n"
          ],
          "name": "stdout"
        },
        {
          "output_type": "stream",
          "text": [
            "/usr/local/lib/python3.6/dist-packages/sklearn/utils/linear_assignment_.py:128: FutureWarning: The linear_assignment function is deprecated in 0.21 and will be removed from 0.23. Use scipy.optimize.linear_sum_assignment instead.\n",
            "  FutureWarning)\n"
          ],
          "name": "stderr"
        },
        {
          "output_type": "stream",
          "text": [
            "epoch 98\n",
            "[Train] - Lr=0.638555, Lc=0.106854 - total loss=0.844210\n",
            "[Train] - Acc=0.645161, Pur=0.645161, NMI=0.378887, ARI=0.354157\n"
          ],
          "name": "stdout"
        },
        {
          "output_type": "stream",
          "text": [
            "/usr/local/lib/python3.6/dist-packages/sklearn/utils/linear_assignment_.py:128: FutureWarning: The linear_assignment function is deprecated in 0.21 and will be removed from 0.23. Use scipy.optimize.linear_sum_assignment instead.\n",
            "  FutureWarning)\n"
          ],
          "name": "stderr"
        },
        {
          "output_type": "stream",
          "text": [
            "epoch 99\n",
            "[Train] - Lr=0.635833, Lc=0.106646 - total loss=0.847032\n",
            "[Train] - Acc=0.644086, Pur=0.644086, NMI=0.372857, ARI=0.352377\n"
          ],
          "name": "stdout"
        },
        {
          "output_type": "stream",
          "text": [
            "/usr/local/lib/python3.6/dist-packages/sklearn/utils/linear_assignment_.py:128: FutureWarning: The linear_assignment function is deprecated in 0.21 and will be removed from 0.23. Use scipy.optimize.linear_sum_assignment instead.\n",
            "  FutureWarning)\n"
          ],
          "name": "stderr"
        },
        {
          "output_type": "stream",
          "text": [
            "Saving model to: results/tmp/DTC_model_final.h5\n",
            "Training time:  57.25152111053467\n"
          ],
          "name": "stdout"
        }
      ]
    },
    {
      "cell_type": "code",
      "metadata": {
        "id": "dknJjI6Wta4W",
        "colab_type": "code",
        "colab": {
          "base_uri": "https://localhost:8080/",
          "height": 103
        },
        "outputId": "2ff454bd-b18b-4178-8801-8b7339119469"
      },
      "source": [
        "# Evaluate\n",
        "print('Performance (TRAIN)')\n",
        "results = {}\n",
        "q = dtc.model.predict(X_train)[1]\n",
        "y_pred = q.argmax(axis=1)\n",
        "results['acc'] = cluster_acc(y_train, y_pred)\n",
        "results['pur'] = cluster_purity(y_train, y_pred)\n",
        "results['nmi'] = metrics.normalized_mutual_info_score(y_train, y_pred)\n",
        "results['ari'] = metrics.adjusted_rand_score(y_train, y_pred)\n",
        "print(results)"
      ],
      "execution_count": null,
      "outputs": [
        {
          "output_type": "stream",
          "text": [
            "Performance (TRAIN)\n",
            "{'acc': 0.6451612903225806, 'pur': 0.6451612903225806, 'nmi': 0.3751081773985274, 'ari': 0.35429130852110036}\n"
          ],
          "name": "stdout"
        },
        {
          "output_type": "stream",
          "text": [
            "/usr/local/lib/python3.6/dist-packages/sklearn/utils/linear_assignment_.py:128: FutureWarning: The linear_assignment function is deprecated in 0.21 and will be removed from 0.23. Use scipy.optimize.linear_sum_assignment instead.\n",
            "  FutureWarning)\n"
          ],
          "name": "stderr"
        }
      ]
    },
    {
      "cell_type": "code",
      "metadata": {
        "id": "7jDNqOonv8YE",
        "colab_type": "code",
        "colab": {
          "base_uri": "https://localhost:8080/",
          "height": 1000
        },
        "outputId": "f54593e1-9f52-4442-dbb4-09bbd3276880"
      },
      "source": [
        "plt.plot(X_train.reshape(930,128))"
      ],
      "execution_count": null,
      "outputs": [
        {
          "output_type": "execute_result",
          "data": {
            "text/plain": [
              "[<matplotlib.lines.Line2D at 0x7fbf87ef0c88>,\n",
              " <matplotlib.lines.Line2D at 0x7fbf87ef0da0>,\n",
              " <matplotlib.lines.Line2D at 0x7fbf87ef0ef0>,\n",
              " <matplotlib.lines.Line2D at 0x7fbf87efb080>,\n",
              " <matplotlib.lines.Line2D at 0x7fbf87efb1d0>,\n",
              " <matplotlib.lines.Line2D at 0x7fbf87efb320>,\n",
              " <matplotlib.lines.Line2D at 0x7fbf87efb470>,\n",
              " <matplotlib.lines.Line2D at 0x7fbf87efb5c0>,\n",
              " <matplotlib.lines.Line2D at 0x7fbf87efb710>,\n",
              " <matplotlib.lines.Line2D at 0x7fbf87efb860>,\n",
              " <matplotlib.lines.Line2D at 0x7fbf87f40c50>,\n",
              " <matplotlib.lines.Line2D at 0x7fbf87efbac8>,\n",
              " <matplotlib.lines.Line2D at 0x7fbf87efbc18>,\n",
              " <matplotlib.lines.Line2D at 0x7fbf87efbd68>,\n",
              " <matplotlib.lines.Line2D at 0x7fbf87efbeb8>,\n",
              " <matplotlib.lines.Line2D at 0x7fbf87f01048>,\n",
              " <matplotlib.lines.Line2D at 0x7fbf87f01198>,\n",
              " <matplotlib.lines.Line2D at 0x7fbf87f012e8>,\n",
              " <matplotlib.lines.Line2D at 0x7fbf87f01438>,\n",
              " <matplotlib.lines.Line2D at 0x7fbf87f01588>,\n",
              " <matplotlib.lines.Line2D at 0x7fbf87f016d8>,\n",
              " <matplotlib.lines.Line2D at 0x7fbf87f01828>,\n",
              " <matplotlib.lines.Line2D at 0x7fbf87f01978>,\n",
              " <matplotlib.lines.Line2D at 0x7fbf87f01ac8>,\n",
              " <matplotlib.lines.Line2D at 0x7fbf87f01c18>,\n",
              " <matplotlib.lines.Line2D at 0x7fbf87f01d68>,\n",
              " <matplotlib.lines.Line2D at 0x7fbf87f01eb8>,\n",
              " <matplotlib.lines.Line2D at 0x7fbf87f07048>,\n",
              " <matplotlib.lines.Line2D at 0x7fbf87f07198>,\n",
              " <matplotlib.lines.Line2D at 0x7fbf87f072e8>,\n",
              " <matplotlib.lines.Line2D at 0x7fbf87f07438>,\n",
              " <matplotlib.lines.Line2D at 0x7fbf87f07588>,\n",
              " <matplotlib.lines.Line2D at 0x7fbf87f076d8>,\n",
              " <matplotlib.lines.Line2D at 0x7fbf87f07828>,\n",
              " <matplotlib.lines.Line2D at 0x7fbf87f07978>,\n",
              " <matplotlib.lines.Line2D at 0x7fbf87f07ac8>,\n",
              " <matplotlib.lines.Line2D at 0x7fbf87f07c18>,\n",
              " <matplotlib.lines.Line2D at 0x7fbf87f07d68>,\n",
              " <matplotlib.lines.Line2D at 0x7fbf87f07eb8>,\n",
              " <matplotlib.lines.Line2D at 0x7fbf87f0b048>,\n",
              " <matplotlib.lines.Line2D at 0x7fbf87f0b198>,\n",
              " <matplotlib.lines.Line2D at 0x7fbf87f0b2e8>,\n",
              " <matplotlib.lines.Line2D at 0x7fbf87f0b438>,\n",
              " <matplotlib.lines.Line2D at 0x7fbf87f0b588>,\n",
              " <matplotlib.lines.Line2D at 0x7fbf87f0b6d8>,\n",
              " <matplotlib.lines.Line2D at 0x7fbf87f0b828>,\n",
              " <matplotlib.lines.Line2D at 0x7fbf87f0b978>,\n",
              " <matplotlib.lines.Line2D at 0x7fbf87f0bac8>,\n",
              " <matplotlib.lines.Line2D at 0x7fbf87f0bc18>,\n",
              " <matplotlib.lines.Line2D at 0x7fbf87f0bd68>,\n",
              " <matplotlib.lines.Line2D at 0x7fbf87f0beb8>,\n",
              " <matplotlib.lines.Line2D at 0x7fbf87f11048>,\n",
              " <matplotlib.lines.Line2D at 0x7fbf87f11198>,\n",
              " <matplotlib.lines.Line2D at 0x7fbf87f112e8>,\n",
              " <matplotlib.lines.Line2D at 0x7fbf87f11438>,\n",
              " <matplotlib.lines.Line2D at 0x7fbf87f11588>,\n",
              " <matplotlib.lines.Line2D at 0x7fbf87f116d8>,\n",
              " <matplotlib.lines.Line2D at 0x7fbf87f11828>,\n",
              " <matplotlib.lines.Line2D at 0x7fbf87f11978>,\n",
              " <matplotlib.lines.Line2D at 0x7fbf87f11ac8>,\n",
              " <matplotlib.lines.Line2D at 0x7fbf87f11c18>,\n",
              " <matplotlib.lines.Line2D at 0x7fbf87f11d68>,\n",
              " <matplotlib.lines.Line2D at 0x7fbf87f11eb8>,\n",
              " <matplotlib.lines.Line2D at 0x7fbf87f14048>,\n",
              " <matplotlib.lines.Line2D at 0x7fbf87f14198>,\n",
              " <matplotlib.lines.Line2D at 0x7fbf87f142e8>,\n",
              " <matplotlib.lines.Line2D at 0x7fbf87f14438>,\n",
              " <matplotlib.lines.Line2D at 0x7fbf87f14588>,\n",
              " <matplotlib.lines.Line2D at 0x7fbf87f146d8>,\n",
              " <matplotlib.lines.Line2D at 0x7fbf87f14828>,\n",
              " <matplotlib.lines.Line2D at 0x7fbf87f14978>,\n",
              " <matplotlib.lines.Line2D at 0x7fbf87f14ac8>,\n",
              " <matplotlib.lines.Line2D at 0x7fbf87f14c18>,\n",
              " <matplotlib.lines.Line2D at 0x7fbf87f14d68>,\n",
              " <matplotlib.lines.Line2D at 0x7fbf87f14eb8>,\n",
              " <matplotlib.lines.Line2D at 0x7fbf87f1b048>,\n",
              " <matplotlib.lines.Line2D at 0x7fbf87f1b198>,\n",
              " <matplotlib.lines.Line2D at 0x7fbf87f1b2e8>,\n",
              " <matplotlib.lines.Line2D at 0x7fbf87f1b438>,\n",
              " <matplotlib.lines.Line2D at 0x7fbf87f1b588>,\n",
              " <matplotlib.lines.Line2D at 0x7fbf87f1b6d8>,\n",
              " <matplotlib.lines.Line2D at 0x7fbf87f1b828>,\n",
              " <matplotlib.lines.Line2D at 0x7fbf87f1b978>,\n",
              " <matplotlib.lines.Line2D at 0x7fbf87f1bac8>,\n",
              " <matplotlib.lines.Line2D at 0x7fbf87f1bc18>,\n",
              " <matplotlib.lines.Line2D at 0x7fbf87f1bd68>,\n",
              " <matplotlib.lines.Line2D at 0x7fbf87f1beb8>,\n",
              " <matplotlib.lines.Line2D at 0x7fbf87f1f048>,\n",
              " <matplotlib.lines.Line2D at 0x7fbf87f1f198>,\n",
              " <matplotlib.lines.Line2D at 0x7fbf87f1f2e8>,\n",
              " <matplotlib.lines.Line2D at 0x7fbf87f1f438>,\n",
              " <matplotlib.lines.Line2D at 0x7fbf87f1f588>,\n",
              " <matplotlib.lines.Line2D at 0x7fbf87f1f6d8>,\n",
              " <matplotlib.lines.Line2D at 0x7fbf87f1f828>,\n",
              " <matplotlib.lines.Line2D at 0x7fbf87f1f978>,\n",
              " <matplotlib.lines.Line2D at 0x7fbf87f1fac8>,\n",
              " <matplotlib.lines.Line2D at 0x7fbf87f1fc18>,\n",
              " <matplotlib.lines.Line2D at 0x7fbf87f1fd68>,\n",
              " <matplotlib.lines.Line2D at 0x7fbf87f1feb8>,\n",
              " <matplotlib.lines.Line2D at 0x7fbf87f26048>,\n",
              " <matplotlib.lines.Line2D at 0x7fbf87f26198>,\n",
              " <matplotlib.lines.Line2D at 0x7fbf87f262e8>,\n",
              " <matplotlib.lines.Line2D at 0x7fbf87f26438>,\n",
              " <matplotlib.lines.Line2D at 0x7fbf87f26588>,\n",
              " <matplotlib.lines.Line2D at 0x7fbf87f266d8>,\n",
              " <matplotlib.lines.Line2D at 0x7fbf87f26828>,\n",
              " <matplotlib.lines.Line2D at 0x7fbf87f26978>,\n",
              " <matplotlib.lines.Line2D at 0x7fbf87f26ac8>,\n",
              " <matplotlib.lines.Line2D at 0x7fbf87f26c18>,\n",
              " <matplotlib.lines.Line2D at 0x7fbf87f26d68>,\n",
              " <matplotlib.lines.Line2D at 0x7fbf87f26eb8>,\n",
              " <matplotlib.lines.Line2D at 0x7fbf87eaa048>,\n",
              " <matplotlib.lines.Line2D at 0x7fbf87eaa198>,\n",
              " <matplotlib.lines.Line2D at 0x7fbf87eaa2e8>,\n",
              " <matplotlib.lines.Line2D at 0x7fbf87eaa438>,\n",
              " <matplotlib.lines.Line2D at 0x7fbf87eaa588>,\n",
              " <matplotlib.lines.Line2D at 0x7fbf87eaa6d8>,\n",
              " <matplotlib.lines.Line2D at 0x7fbf87eaa828>,\n",
              " <matplotlib.lines.Line2D at 0x7fbf87eaa978>,\n",
              " <matplotlib.lines.Line2D at 0x7fbf87eaaac8>,\n",
              " <matplotlib.lines.Line2D at 0x7fbf87eaac18>,\n",
              " <matplotlib.lines.Line2D at 0x7fbf87eaad68>,\n",
              " <matplotlib.lines.Line2D at 0x7fbf87eaaeb8>,\n",
              " <matplotlib.lines.Line2D at 0x7fbf87eb0048>,\n",
              " <matplotlib.lines.Line2D at 0x7fbf87eb0198>,\n",
              " <matplotlib.lines.Line2D at 0x7fbf87eb02e8>,\n",
              " <matplotlib.lines.Line2D at 0x7fbf87eb0438>,\n",
              " <matplotlib.lines.Line2D at 0x7fbf87eb0588>]"
            ]
          },
          "metadata": {
            "tags": []
          },
          "execution_count": 37
        },
        {
          "output_type": "display_data",
          "data": {
            "image/png": "[encoded data removed]",
            "text/plain": [
              "<Figure size 432x288 with 1 Axes>"
            ]
          },
          "metadata": {
            "tags": [],
            "needs_background": "light"
          }
        }
      ]
    }
  ]
}